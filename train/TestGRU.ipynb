{
 "cells": [
  {
   "cell_type": "code",
   "execution_count": 1,
   "metadata": {},
   "outputs": [],
   "source": [
    "from paths import *\n",
    "from train.test_final_model import CTGLang\n",
    "from train.cgru import CGRU\n",
    "from train.languages_list import Languages\n",
    "\n",
    "from pathlib import Path\n",
    "import numpy as np\n",
    "from tqdm.notebook import tqdm\n",
    "from time import time\n",
    "from matplotlib import pyplot as plt\n",
    "import torch\n",
    "import json\n",
    "\n",
    "import pandas as pd"
   ]
  },
  {
   "cell_type": "code",
   "execution_count": 2,
   "metadata": {},
   "outputs": [],
   "source": [
    "model = CTGLang(WORKSPACE_DIR / \"libtglang.so\")"
   ]
  },
  {
   "cell_type": "code",
   "execution_count": 9,
   "metadata": {},
   "outputs": [],
   "source": [
    "gru_bin = CGRU(RESOURCES / \"gru_binary.bin\", WORKSPACE_DIR / \"release/libgru.so\", tokenize=True)\n",
    "gru_lang = CGRU(RESOURCES / \"gru_lang.bin\", WORKSPACE_DIR / \"release/libgru.so\", tokenize=True)"
   ]
  },
  {
   "cell_type": "code",
   "execution_count": 10,
   "metadata": {},
   "outputs": [
    {
     "data": {
      "image/png": "[encoded data removed]",
      "text/plain": [
       "<Figure size 432x288 with 1 Axes>"
      ]
     },
     "metadata": {
      "needs_background": "light"
     },
     "output_type": "display_data"
    }
   ],
   "source": [
    "logits = gru_lang.get_logits(\"array = malloc(10);\\n free(array);\")\n",
    "\n",
    "proba = torch.softmax(torch.as_tensor(logits), dim=0)\n",
    "plt.bar(list(Languages.to_string(lang) for lang in Languages), proba[:29])\n",
    "plt.xticks(rotation=90);"
   ]
  },
  {
   "cell_type": "code",
   "execution_count": 4,
   "metadata": {},
   "outputs": [],
   "source": [
    "files = list(Path(\"./data/extra/\").glob(\"*/*.txt\"))"
   ]
  },
  {
   "cell_type": "code",
   "execution_count": 4,
   "metadata": {},
   "outputs": [],
   "source": [
    "with open(DATA / \"splits.json\", \"r\") as fp:\n",
    "    splits = json.load(fp)"
   ]
  },
  {
   "cell_type": "code",
   "execution_count": 19,
   "metadata": {},
   "outputs": [],
   "source": [
    "files = list(Path(file) for file in splits[\"test_tg\"].keys()) + \\\n",
    "        list(Path(file) for file in splits[\"train_svc\"] if splits[\"train_svc\"][file][\"origin\"] == \"tg\")"
   ]
  },
  {
   "cell_type": "code",
   "execution_count": 12,
   "metadata": {},
   "outputs": [
    {
     "data": {
      "text/plain": [
       "PosixPath('data/tg_data/a1/a1b55c8f35d6f51a6c9b-OTHER.txt')"
      ]
     },
     "execution_count": 12,
     "metadata": {},
     "output_type": "execute_result"
    }
   ],
   "source": [
    "files[0]"
   ]
  },
  {
   "cell_type": "code",
   "execution_count": 6,
   "metadata": {},
   "outputs": [
    {
     "data": {
      "text/plain": [
       "6087"
      ]
     },
     "execution_count": 6,
     "metadata": {},
     "output_type": "execute_result"
    }
   ],
   "source": [
    "len(files)"
   ]
  },
  {
   "cell_type": "code",
   "execution_count": 13,
   "metadata": {},
   "outputs": [
    {
     "data": {
      "application/vnd.jupyter.widget-view+json": {
       "model_id": "4c8dddf58db04d5dad4aac9d9afe8115",
       "version_major": 2,
       "version_minor": 0
      },
      "text/plain": [
       "  0%|          | 0/6087 [00:00<?, ?it/s]"
      ]
     },
     "metadata": {},
     "output_type": "display_data"
    }
   ],
   "source": [
    "predictions = []\n",
    "is_code = []\n",
    "texts = []\n",
    "probas = []\n",
    "\n",
    "total_time = 0\n",
    "length = 0\n",
    "\n",
    "pbar = tqdm(files)\n",
    "for file in pbar:\n",
    "    file = WORKSPACE_DIR / file\n",
    "\n",
    "    if not file.exists():\n",
    "        continue\n",
    "\n",
    "    text = file.read_text()\n",
    "    texts.append(text)\n",
    "    \n",
    "    length += len(text.encode(\"utf-8\"))\n",
    "\n",
    "    start = time()\n",
    "    prediction = model(text)\n",
    "    total_time += time() - start\n",
    "\n",
    "    logits = gru_bin.get_logits(text)\n",
    "    proba = torch.softmax(torch.as_tensor(logits), dim=0)[1].item()\n",
    "    probas.append(proba)\n",
    "\n",
    "    predictions.append(prediction)\n",
    "    is_code.append(file.stem.split(\"-\")[-1] == \"CODE\")\n",
    "\n",
    "    speed = total_time / length * 4096 * 1000\n",
    "    pbar.set_description(f\"Inference speed per 4kB: {speed:.3f} ms\")\n",
    "\n",
    "predictions = np.array(predictions)\n",
    "is_code = np.array(is_code)\n",
    "\n",
    "misses = predictions.astype(bool) != is_code"
   ]
  },
  {
   "cell_type": "code",
   "execution_count": 20,
   "metadata": {},
   "outputs": [],
   "source": [
    "files = [file for file in files if (WORKSPACE_DIR / file).exists()]"
   ]
  },
  {
   "cell_type": "code",
   "execution_count": 22,
   "metadata": {},
   "outputs": [],
   "source": [
    "misses = predictions.astype(bool) != is_code.astype(bool)\n",
    "\n",
    "data = pd.DataFrame(dict(\n",
    "    file=files,\n",
    "    text=texts,\n",
    "    prediction = predictions,\n",
    "    prediction_str=[Languages.to_string(Languages(prediction)) for prediction in predictions],\n",
    "    proba_is_code=probas,\n",
    "    is_code=is_code.astype(int),\n",
    "    is_miss=misses.astype(int),\n",
    "    gt_lang=None,\n",
    "))\n",
    "\n",
    "data.to_csv(DATA / \"test.csv\")"
   ]
  },
  {
   "cell_type": "code",
   "execution_count": 23,
   "metadata": {},
   "outputs": [
    {
     "data": {
      "text/plain": [
       "0.9763274699983561"
      ]
     },
     "execution_count": 23,
     "metadata": {},
     "output_type": "execute_result"
    }
   ],
   "source": [
    "(data.is_code == (data.proba_is_code > 0.5)).mean()"
   ]
  },
  {
   "cell_type": "code",
   "execution_count": 24,
   "metadata": {},
   "outputs": [
    {
     "data": {
      "text/plain": [
       "0.9796153213874733"
      ]
     },
     "execution_count": 24,
     "metadata": {},
     "output_type": "execute_result"
    }
   ],
   "source": [
    "(data.is_code == (data.proba_is_code > 0.66)).mean()"
   ]
  },
  {
   "cell_type": "code",
   "execution_count": 25,
   "metadata": {},
   "outputs": [
    {
     "data": {
      "text/plain": [
       "0.9794509288180174"
      ]
     },
     "execution_count": 25,
     "metadata": {},
     "output_type": "execute_result"
    }
   ],
   "source": [
    "(data.is_code == (data.prediction != 0)).mean()"
   ]
  },
  {
   "cell_type": "code",
   "execution_count": 26,
   "metadata": {},
   "outputs": [
    {
     "data": {
      "text/plain": [
       "0.984569382442298"
      ]
     },
     "execution_count": 26,
     "metadata": {},
     "output_type": "execute_result"
    }
   ],
   "source": [
    "from sklearn.metrics import roc_auc_score, roc_curve, accuracy_score, f1_score\n",
    "roc_auc_score(data.is_code, data.proba_is_code)"
   ]
  },
  {
   "cell_type": "code",
   "execution_count": 27,
   "metadata": {},
   "outputs": [],
   "source": [
    "fpr, tpr, tt = roc_curve(data.is_code, data.proba_is_code)"
   ]
  },
  {
   "cell_type": "code",
   "execution_count": 28,
   "metadata": {},
   "outputs": [
    {
     "data": {
      "text/plain": [
       "0.22563176895306858"
      ]
     },
     "execution_count": 28,
     "metadata": {},
     "output_type": "execute_result"
    }
   ],
   "source": [
    "data.is_miss.sum() / data.is_code.sum()"
   ]
  },
  {
   "cell_type": "code",
   "execution_count": 29,
   "metadata": {},
   "outputs": [
    {
     "data": {
      "application/vnd.jupyter.widget-view+json": {
       "model_id": "2012bbf062d34d8f9ff1a00581015427",
       "version_major": 2,
       "version_minor": 0
      },
      "text/plain": [
       "  0%|          | 0/236 [00:00<?, ?it/s]"
      ]
     },
     "metadata": {},
     "output_type": "display_data"
    }
   ],
   "source": [
    "accuracies = []\n",
    "f1 = []\n",
    "\n",
    "for t in tqdm(tt):\n",
    "    accuracies.append(accuracy_score(data.is_code, data.proba_is_code >= t))\n",
    "    f1.append(f1_score(data.is_code, data.proba_is_code >= t))"
   ]
  },
  {
   "cell_type": "code",
   "execution_count": 31,
   "metadata": {},
   "outputs": [
    {
     "data": {
      "text/plain": [
       "(0.979944106526385, 0.8870673952641166)"
      ]
     },
     "execution_count": 31,
     "metadata": {},
     "output_type": "execute_result"
    }
   ],
   "source": [
    "max(accuracies), max(f1)"
   ]
  },
  {
   "cell_type": "code",
   "execution_count": 34,
   "metadata": {},
   "outputs": [
    {
     "data": {
      "text/plain": [
       "(0.9796153213874733, 0.6659747958183289)"
      ]
     },
     "execution_count": 34,
     "metadata": {},
     "output_type": "execute_result"
    }
   ],
   "source": [
    "accuracies[np.argmax(f1)], tt[np.argmax(f1)]"
   ]
  },
  {
   "cell_type": "code",
   "execution_count": 38,
   "metadata": {},
   "outputs": [
    {
     "data": {
      "text/plain": [
       "Text(0, 0.5, 'TPR')"
      ]
     },
     "execution_count": 38,
     "metadata": {},
     "output_type": "execute_result"
    },
    {
     "data": {
      "image/png": "[encoded data removed]",
      "text/plain": [
       "<Figure size 1440x720 with 1 Axes>"
      ]
     },
     "metadata": {
      "needs_background": "light"
     },
     "output_type": "display_data"
    }
   ],
   "source": [
    "i = np.argmax(f1)\n",
    "t0 = tt[i]\n",
    "\n",
    "plt.figure(figsize=[20, 10])\n",
    "\n",
    "plt.plot(fpr, tpr)\n",
    "plt.plot(fpr, accuracies)\n",
    "plt.plot(fpr, f1)\n",
    "plt.scatter(fpr[i], accuracies[i], s=10, c=\"red\")\n",
    "\n",
    "for t1 in np.linspace(0, 1, 11):\n",
    "    i = len(tt) - np.searchsorted(tt[::-1], t1) - 1\n",
    "    i = min(len(tt) - 1, i)\n",
    "    i = max(0, i)\n",
    "    plt.scatter(fpr[i], tpr[i], c=\"blue\", s=10)\n",
    "    plt.plot([fpr[i], fpr[i]], [0, 1], \"--\", alpha=0.2, c='black', lw=1)\n",
    "    plt.text(fpr[i], tpr[i]-0.03, f\"{t1:.1f}\")\n",
    "\n",
    "plt.xlabel(\"FPR\")\n",
    "plt.ylabel(\"TPR\")\n",
    "\n",
    "# plt.xlim(-0.01, 0.1)\n",
    "# plt.ylim(0.8, 1.01)"
   ]
  },
  {
   "cell_type": "code",
   "execution_count": 44,
   "metadata": {},
   "outputs": [
    {
     "name": "stdout",
     "output_type": "stream",
     "text": [
      "========== data/tg_data/4f/4f344614e17f533e7d7b-CODE.txt Other ==========\n",
      "GET / HTTP1.1[lf]Host: tim92.com.br[lf]Upgrade: Websocket[lf][lf]\n",
      "========== data/tg_data/37/37a725d141e301cdaab7-OTHER.txt SQL ==========\n",
      "LIMITED EDITION\n",
      "========== data/tg_data/0a/0a9eacea691333a93384-OTHER.txt Python ==========\n",
      "(WHATAPP/INSTAGRAM/FACEBOOK/TIKTOK/YOUTUBE/TWITTER)\n",
      "\n",
      "\n",
      "========== data/tg_data/37/3725a7f135ebf597f81b-CODE.txt Other ==========\n",
      "cscript //nologo %windir%\\system32\\slmgr.vbs /skms 5.45.97.157:993\n",
      "cscript //nologo %windir%\\system32\\slmgr.vbs /ato 9caabccb-61b1-4b4b-8bec-d10a3c3ac2ce\n",
      "========== data/tg_data/3b/3b7a1ef808b6a5e9c831-OTHER.txt TL ==========\n",
      "[...]\n",
      "\n",
      "\n",
      "========== data/tg_data/22/222e2992a05e363384d0-CODE.txt Other ==========\n",
      "if (условие) {\n",
      "    тело\n",
      "}\n",
      "========== data/tg_data/e2/e230e9931d6425b0ef91-CODE.txt Other ==========\n",
      "`ls -atr /etc/*-release | tail -2`\n",
      "\n",
      "========== data/tg_data/bb/bbb3280a328f4147996f-OTHER.txt Python ==========\n",
      "no main manifest attribute, in gui_compose-1.0-SNAPSHOT-all.jar\n",
      "========== data/tg_data/24/2426f1fd1a2c131402cc-CODE.txt Other ==========\n",
      "Psexec -i -d -s taskmgr.exe\n",
      "\n",
      "========== data/tg_data/ff/ff9513d4f8d22bc3a1bc-CODE.txt Other ==========\n",
      "module main\n",
      "\n",
      "let n=3\n",
      "let a=0 + 51.5\n",
      "\n",
      "let b=if 1 then 0 else 1\n",
      "\n",
      "endmodule main\n",
      "========== data/tg_data/b3/b305ca0f81b9ab577f9a-OTHER.txt SQL ==========\n",
      " ____   _____ __     __\n",
      "|___ \\ |___ / \\ \\   / /\n",
      "  __) |  |_ \\  \\ \\ / / \n",
      " / __/  ___) |  \\ V /  \n",
      "|_____||____/    \\_/\n",
      "========== data/tg_data/d9/d99923581249e90b94f1-CODE.txt Other ==========\n",
      "\n",
      "/Applications/Xcode.app/Contents/Developer/usr/bin/xcodebuild -workspace ./ios/Flip.xcworkspace -scheme Flip -configuration Release -sdk iphoneos16.2 -destination generic/platform=iOS -archivePath ./Flip.xcarchive clean archive\n",
      "\n",
      "========== data/tg_data/31/31446a4157ab24474dee-CODE.txt Other ==========\n",
      "changed\": false, \"msg\": \"Error granting privileges, invalid priv string:  ALL, GRANT\"\n",
      "========== data/tg_data/98/9847e1c7288cfd6ee28a-CODE.txt Other ==========\n",
      "   nano bot_telegram.py\n",
      "   \n",
      "========== data/tg_data/fc/fcdda1f0e675278d01a5-CODE.txt Other ==========\n",
      "flatpak install flathub com.github.tchx84.Flatseal\n",
      "\n",
      "flatpak run com.github.tchx84.Flatseal\n",
      "\n",
      "\n",
      "========== data/tg_data/b0/b010736cf348434c517e-CODE.txt Other ==========\n",
      "-> p.readUtf8String()\n",
      "\n",
      "========== data/tg_data/13/13db8150e189071d9390-CODE.txt Other ==========\n",
      "if(!gls.location.isValid())\n",
      "========== data/tg_data/8e/8e02610d72f5c491054f-CODE.txt Other ==========\n",
      "<output_color value=\"#00ff00\">\n",
      "========== data/tg_data/bf/bf9613e04dffd9b734bb-OTHER.txt Lua ==========\n",
      "--restart=always\n",
      "========== data/tg_data/09/09119d0c89f91a54cc3f-CODE.txt Other ==========\n",
      "pkg update && pkg install bsdtar wget proot tergent tmux openssh\n",
      "========== data/tg_data/9d/9dd169bdf4d07aec3872-CODE.txt Other ==========\n",
      "rustup update stable\n",
      "========== data/tg_data/fe/febe1d97ff77182e5c63-CODE.txt Other ==========\n",
      "section .data\n",
      "    array db 5, 2, 8, 1, 3\n",
      "    length equ $ - array\n",
      "\n",
      "section .text\n",
      "    global _start\n",
      "\n",
      "_start:\n",
      "    mov ecx, length\n",
      "    dec ecx\n",
      "\n",
      "loop_outer:\n",
      "    mov eax, ecx\n",
      "    xor ebx, ebx\n",
      "    \n",
      "loop_inner:\n",
      "    mov dl, [array + ebx]\n",
      "    cmp dl, [array + ebx + 1]\n",
      "    jle skip_swap\n",
      "    \n",
      "    mov dh, [array + ebx + 1]\n",
      "    mov [array + ebx + 1], dl\n",
      "    mov [array + ebx], dh\n",
      "    \n",
      "skip_swap:\n",
      "    inc ebx\n",
      "    cmp ebx, eax\n",
      "    jl loop_inner\n",
      "\n",
      "    dec ecx\n",
      "    cmp ecx, 0\n",
      "    jg loop_outer\n",
      "    \n",
      "    ; Print the sorted array\n",
      "    mov edx, length\n",
      "    mov ecx, array\n",
      "    mov ebx, 1\n",
      "    mov eax, 4\n",
      "    int 0x80\n",
      "\n",
      "exit:\n",
      "    mov eax, 1\n",
      "    xor ebx, ebx\n",
      "    int 0x80\n",
      "\n",
      "========== data/tg_data/0a/0a986c4d932bdc14cd1f-OTHER.txt TL ==========\n",
      "(Facebook , Instagram, TikTok, Twitter, and so on)\n",
      "========== data/tg_data/a2/a28933cac4b7d2238429-CODE.txt Other ==========\n",
      "module top (\n",
      "    input [7:0] sw,\n",
      "    output [2:0] led\n",
      ");\n",
      "\n",
      "========== data/tg_data/a6/a6bf8599312da4ec0f6c-OTHER.txt HTML ==========\n",
      "yay -Sua\n",
      "========== data/tg_data/e3/e3b568fc34dc8da6e198-CODE.txt Other ==========\n",
      "NodeOperationError: Request timed out after 60000ms\n",
      "    at Object.execute (/usr/local/lib/node_modules/n8n/node_modules/n8n-nodes-base/dist/nodes/RssFeedRead/RssFeedRead.node.js:64:23)\n",
      "    at Workflow.runNode (/usr/local/lib/node_modules/n8n/node_modules/n8n-workflow/dist/Workflow.js:649:19)\n",
      "    at /usr/local/lib/node_modules/n8n/node_modules/n8n-core/dist/WorkflowExecute.js:631:53\n",
      "========== data/tg_data/a3/a37ed61397f64f3af24d-CODE.txt Other ==========\n",
      "\n",
      "let tryAccept capacity reservations reservation =\n",
      "    let reservedSeats = reservations |> List.sumBy (fun x -> x.Quantity)\n",
      "    if reservedSeats + reservation.Quantity <= capacity\n",
      "    then { reservation with IsAccepted = true } |> Some\n",
      "    else None\n",
      "\n",
      "========== data/tg_data/9a/9a90960a33920851bdb6-CODE.txt Other ==========\n",
      "bbcb2 -DEBUG\n",
      "========== data/tg_data/9c/9ca87e21b50e299e7d96-CODE.txt Other ==========\n",
      "&extraParams=%7B\"channelInfo\"%3A%7B\"sourceType\"%3A\"560\"%7D%7D\n",
      "\n",
      "\n",
      "========== data/tg_data/60/60054b1432c64761ae86-OTHER.txt Shell ==========\n",
      "beru@venture:~/evox$ lunch evolution_rosemary-userdebug\n",
      "date: bad date 2023-10-07 16:04 UTC\n",
      "Trying dependencies-only mode on a non-existing device tree?\n",
      "including vendor/evolution/vendorsetup.sh\n",
      "including vendor/gcgop/vendorsetup.sh\n",
      "date: bad date 2023-10-07 16:04 UTC\n",
      "\n",
      "============================================\n",
      "PLATFORM_VERSION_CODENAME=REL\n",
      "PLATFORM_VERSION=14\n",
      "PRODUCT_INCLUDE_TAGS=com.android.mainline\n",
      "EVO_VERSION=evolution_rosemary-ota-up1a.231005.007.a1-10071604-community\n",
      "EVO_BUILD_TYPE=COMMUNITY\n",
      "TARGET_PRODUCT=evolution_rosemary\n",
      "TARGET_BUILD_VARIANT=userdebug\n",
      "TARGET_ARCH=arm64\n",
      "TARGET_ARCH_VARIANT=armv8-2a-dotprod\n",
      "TARGET_CPU_VARIANT=generic\n",
      "TARGET_2ND_ARCH=arm\n",
      "TARGET_2ND_ARCH_VARIANT=armv8-2a\n",
      "TARGET_2ND_CPU_VARIANT=generic\n",
      "HOST_OS=linux\n",
      "BUILD_ID=UP1A.231005.007.A1\n",
      "OUT_DIR=/home/beru/evox/out\n",
      "============================================\n",
      "========== data/tg_data/41/4184d09ac10fa3c69c7a-OTHER.txt SQL ==========\n",
      "UPDATE : 08/10/2023\n",
      "\n",
      "\n",
      "========== data/tg_data/31/31ea8b23bcf55ddaeb6e-OTHER.txt SQL ==========\n",
      "setprop debug.sf.early.app.duration 16600000\n",
      "setprop debug.sf.early.sfduration 16600000\n",
      "setprop debug.sf.earlyGl.app.duration 13666666\n",
      "setprop debug.sf.earlyGl.sf.duration 16600000\n",
      "setprop debug.sf.early_app_phase_offset_ns 500000\n",
      "setprop debug.sf.early_gl_app_phase_offset_ns 15000000\n",
      "setprop debug.sf.early_gl_phase_offset_ns 3000000\n",
      "setprop debug.sf.early_phase_offset_ns 6000000\n",
      "setprop debug.sf.high_fps_early_app_duration 10000000\n",
      "setprop debug.sf.high_fps_early_sf_duration 13800000\n",
      "setprop debug.sf.high_fps_earlyGl_app_duration 10000000\n",
      "setprop debug.sf.high_fps_earlyGl_sf_duration 13800000\n",
      "setprop debug.sf.high_fps_hwc_min_duration 8500000\n",
      "setprop debug.sf.high_fps_late_app_duration 10000000\n",
      "setprop debug.sf.high_fps_late_sf_duration 13800000\n",
      "setprop debug.sf.high_fps_early_app_phase_offset_ns -1\n",
      "setprop debug.sf.high_fps_early_cpu_app_offset_ns 120\n",
      "setprop debug.sf.high_fps_early_gl_app_phase_offset_ns -1\n",
      "setprop debug.sf.high_fps_early_gl_phase_offset_ns 650000\n",
      "setprop debug.sf.high_fps_early_gpu_app_offset_ns 120\n",
      "setprop debug.sf.high_fps_early_phase_offset_ns 6100000\n",
      "setprop debug.sf.high_fps_late_app_phase_offset_ns 100000\n",
      "setprop debug.sf.high_fps_late_gl_phase_offset_ns 22000\n",
      "setprop debug.sf.high_fps_late_phase_offset_ns 23000\n",
      "setprop debug.sf.high_fps_late_sf_duration 10000\n",
      "setprop debug.sf.high_fps_late_sf_phase_offset_ns 1000000\n",
      "setprop debug.sf.late.app.duration 12000\n",
      "setprop debug.sf.late.sf.duration 12000\n",
      "setprop debug.sf.max_igbp_list_size 32870\n",
      "setprop debug.sf.perf_fps_early_gl_phase_offset_ns 9000000\n",
      "setprop debug.sf.phase_offset_threshold_for_next_vsync_ns 0\n",
      "\n",
      "========== data/tg_data/e1/e10bc9da5d59b872306c-OTHER.txt PowerShell ==========\n",
      "$78,480,443.02\n",
      "========== data/tg_data/ae/ae110c399d990b0ba8ac-OTHER.txt SQL ==========\n",
      "DELETE FROM table\n",
      "[WHERE conditions];\n",
      "\n",
      "\n",
      "========== data/tg_data/d3/d352ba686c055b70fcd4-OTHER.txt C++ ==========\n",
      "Size - M L XL XXL\n",
      "========== data/tg_data/87/87abd3fcc6c58a1649d5-OTHER.txt PowerShell ==========\n",
      "dns: \n",
      "  enable: true \n",
      "  listen: 127.0.0.1:1053 \n",
      "  ipv6: true \n",
      "  default-nameserver: \n",
      "    - quic://223.5.5.5 \n",
      "    - quic://223.6.6.6 \n",
      "  nameserver: \n",
      "    - quic://223.5.5.5           \n",
      "    - quic://223.6.6.6 \n",
      "  fallback: \n",
      "    - quic://223.5.5.5 \n",
      "    - quic://223.6.6.6 \n",
      "  prefer-h3: true \n",
      "  use-hosts: true \n",
      "  enhanced-mode: redir-host \n",
      "  fake-ip-range: 28.0.0.1/8 \n",
      "  fake-ip-filter: \n",
      "    - '*' \n",
      "    - '+.lan' \n",
      "    - '+.local'\n",
      "\n",
      "========== data/tg_data/11/11b8063408ad70176b29-OTHER.txt PowerShell ==========\n",
      "&LThtml lang ='en' manifest=\"./index.manifest\">\n",
      "\n",
      "========== data/tg_data/4a/4a5e77a7c90fd1be15ac-CODE.txt Other ==========\n",
      "Area => TRD-CDS\n",
      "Event Type => HEALTH-KO\n",
      "Label => START\n",
      "Long Message => [key = BBG, alert = true, description = Unsupported recipient ActorRef type, question not sent to [null]. Sender[null] sent the message of type \"com.gatelab.streaming.commons.model.CDSContribution$GlobalHealthStatusCds$Status\".\n",
      "key = Reuters, alert = true, description = Reuters not responding after 50 seconds\n",
      "key = Gdi Mq, alert = false, description = \n",
      "key = Cds Contribution, alert = false, description = ]\n",
      "Short Message => [Some components are not working]\n",
      "========== data/tg_data/46/46a047e0714bfba6cdb0-CODE.txt Other ==========\n",
      "/interface lte at-chat lte1 wait=yes input=\"AT!GMEAS\"\n",
      "========== data/tg_data/6f/6f3c5dd346b44c5d33cf-CODE.txt Other ==========\n",
      " ping youtube.com\n",
      "========== data/tg_data/67/6763cf1b0f204d04dcd3-OTHER.txt HTML ==========\n",
      "  1     1 ms     1 ms    <1 мс  192.168.2.1\n",
      "  2     *        *        *     Превышен интервал ожидания для запроса.\n",
      "  3     *        *        *     Превышен интервал ожидания для запроса.\n",
      "  4     *        *        *     Превышен интервал ожидания для запроса.\n",
      "  5     *        *        *     Превышен интервал ожидания для запроса.\n",
      "  6     *        *        *     Превышен интервал ожидания для запроса.\n",
      "  7     *        *        *     Превышен интервал ожидания для запроса.\n",
      "  8    28 ms    35 ms    35 ms  31.173.234.58\n",
      "  9    32 ms    35 ms    25 ms  31.173.234.49\n",
      " 10   113 ms   115 ms   117 ms  83.169.204.102\n",
      " 11   103 ms   118 ms     *     188.170.133.1\n",
      " 12     *        *        *     Превышен интервал ожидания для запроса.\n",
      " 13     *        *      117 ms  52.93.35.95\n",
      " 14     *        *      119 ms  52.93.156.190\n",
      " 15   110 ms   107 ms     *     54.240.241.30\n",
      " 16     *        *      117 ms  76.76.21.21\n",
      "========== data/tg_data/fa/fa1e8e853155179fc1de-CODE.txt Other ==========\n",
      "irm christitus.com/win | iex\n",
      "\n",
      "\n",
      "========== data/tg_data/0c/0ce2ca05f798ab5383f7-OTHER.txt HTML ==========\n",
      "> protoc: stdout: . stderr: bilibili/dynamic/common/dynamic.proto:888:5: \"VOTE\" is already defined in \"bilibili.dynamic\".\n",
      "  bilibili/dynamic/common/dynamic.proto:888:5: Note that enum values use C++ scoping rules, meaning that enum values are siblings of their type, not children of it.  Therefore, \"VOTE\" must be unique within \"bilibili.dynamic\", not just within \"OpusBizType\".\n",
      "  bilibili/dynamic/common/dynamic.proto:890:5: \"LOTTERY\" is already defined in \"bilibili.dynamic\".\n",
      "...\n",
      "========== data/tg_data/50/5011891f0b83ce7eafd9-OTHER.txt Shell ==========\n",
      "irm https://massgrave.dev/get | iex\n",
      "\n",
      "\n",
      "========== data/tg_data/2c/2cc184898c55b0e843cf-OTHER.txt Dart ==========\n",
      ">varName();\n",
      "\n",
      "\n",
      "========== data/tg_data/c7/c7ea58d353891b5c4ee4-OTHER.txt Swift ==========\n",
      "2141543061\n",
      "========== data/tg_data/3f/3f0b87ebe288fd8efdff-OTHER.txt Shell ==========\n",
      "[rob@halftab ~]$ xrandr\n",
      "Screen 0: minimum 320 x 200, current 1280 x 800, maximum 4096 x 4096\n",
      "LVDS-1 connected primary 1280x800+0+0 right (normal left inverted right x axis y axis) 0mm x 0mm\n",
      "   800x1280      58.63*+\n",
      "========== data/tg_data/e2/e2bc82fb3cd14761e938-CODE.txt Other ==========\n",
      "[duangsuse@arc ~]$ javap java.util.List|grep of\n",
      "  public static <E> java.util.List<E> of();\n",
      "\n",
      "\n",
      "========== data/tg_data/9e/9e4969b59263ef0af3c7-OTHER.txt C ==========\n",
      "An SSL error, that has occured, \n",
      "Did not allow us make secure connection\n",
      "========== data/tg_data/9f/9fad228c64c54366dbd1-OTHER.txt Docker ==========\n",
      "Shin ko an taba ruwaito cewa Abubakar Al-siddiqu (babban abokinsa Na hannun damarsa) yayi bikin maulidi?? Shin ko an taba ruwaito cewa Umar ibn Al-Khattab (wanda yayi khalifanci na shekaru 12) yayi bikin maulidi?? Shin ko an taba ruwaito cewa Uthman ibn Affan yayi bikin Maulidi?? Shin an ruwaito cewa Aliyu ibn Abi Dalib (Dan uwansa kuma surukinsa) yayi bikin Maulidi?? Shin an ruwaito ko da mutum daya daga cikin sahabbai yayi bikin maulidi???\n",
      "========== data/tg_data/d8/d8e48539ecb7d1a6283f-CODE.txt Other ==========\n",
      "wget http://192.168.0.101:8000/testfile\n",
      "curl -o testfile http://192.168.0.101:8000/testfile\n",
      "\n",
      "========== data/tg_data/70/70296181aed4180387cd-OTHER.txt Python ==========\n",
      "\n",
      "Exception in thread Thread-1:\n",
      "Traceback (most recent call last):\n",
      "  File \"/Users/user/anaconda3/envs/parser_avito-master/lib/python3.8/site-packages/seleniumbase/core/browser_launcher.py\", line 3074, in get_local_driver\n",
      "    driver = undetected.Chrome(\n",
      "  File \"/Users/user/anaconda3/envs/parser_avito-master/lib/python3.8/site-packages/seleniumbase/undetected/__init__.py\", line 277, in __init__\n",
      "    browser = subprocess.Popen(\n",
      "  File \"/Users/user/anaconda3/envs/parser_avito-master/lib/python3.8/subprocess.py\", line 858, in __init__\n",
      "    self._execute_child(args, executable, preexec_fn, close_fds,\n",
      "  File \"/Users/user/anaconda3/envs/parser_avito-master/lib/python3.8/subprocess.py\", line 1601, in _execute_child\n",
      "    and os.path.dirname(executable)\n",
      "  File \"/Users/user/anaconda3/envs/parser_avito-master/lib/python3.8/posixpath.py\", line 152, in dirname\n",
      "    p = os.fspath(p)\n",
      "TypeError: expected str, bytes or os.PathLike object, not NoneType\n",
      "\n",
      "During handling of the above exception, another exception occurred:\n",
      "\n",
      "Traceback (most recent call last):\n",
      "  File \"/Users/user/anaconda3/envs/parser_avito-master/lib/python3.8/threading.py\", line 932, in _bootstrap_inner\n",
      "    self.run()\n",
      "  File \"/Users/user/anaconda3/envs/parser_avito-master/lib/python3.8/threading.py\", line 870, in run\n",
      "    self._target(*self._args, **self._kwargs)\n",
      "  File \"/Users/user/Yandex.Disk-a.mironov.intmar@immag.ru.localized/parser_avito-master/AvitoParser.py\", line 174, in start_scraping\n",
      "    self.run_parse()\n",
      "  File \"/Users/user/Yandex.Disk-a.mironov.intmar@immag.ru.localized/parser_avito-master/AvitoParser.py\", line 288, in run_parse\n",
      "    AvitoParse(\n",
      "  File \"/Users/user/Yandex.Disk-a.mironov.intmar@immag.ru.localized/parser_avito-master/parser_cls.py\", line 296, in parse\n",
      "    with SB(uc=True,\n",
      "  File \"/Users/user/anaconda3/envs/parser_avito-master/lib/python3.8/contextlib.py\", line 113, in __enter__\n",
      "    return next(self.gen)\n",
      "  File \"/Users/user/anaconda3/envs/parser_avito-master/lib/python3.8/site-packages/seleniumbase/plugins/sb_manager.py\", line 815, in SB\n",
      "    sb.setUp()\n",
      "  File \"/Users/user/anaconda3/envs/parser_avito-master/lib/python3.8/site-packages/seleniumbase/fixtures/base_case.py\", line 13915, in setUp\n",
      "    self.driver = self.get_new_driver(\n",
      "  File \"/Users/user/anaconda3/envs/parser_avito-master/lib/python3.8/site-packages/seleniumbase/fixtures/base_case.py\", line 3818, in get_new_driver\n",
      "    new_driver = browser_launcher.get_driver(\n",
      "  File \"/Users/user/anaconda3/envs/parser_avito-master/lib/python3.8/site-packages/seleniumbase/core/browser_launcher.py\", line 1261, in get_driver\n",
      "    return get_local_driver(\n",
      "  File \"/Users/user/anaconda3/envs/parser_avito-master/lib/python3.8/site-packages/seleniumbase/core/browser_launcher.py\", line 3385, in get_local_driver\n",
      "    return webdriver.Chrome()\n",
      "  File \"/Users/user/anaconda3/envs/parser_avito-master/lib/python3.8/site-packages/selenium/webdriver/chrome/webdriver.py\", line 49, in __init__\n",
      "    super().__init__(\n",
      "  File \"/Users/user/anaconda3/envs/parser_avito-master/lib/python3.8/site-packages/selenium/webdriver/chromium/webdriver.py\", line 54, in __init__\n",
      "onse\n",
      "    raise exception_class(message, screen, stacktrace)\n",
      "selenium.common.exceptions.WebDriverException: Message: unknown error: cannot find Chrome binary\n",
      "Stacktrace:\n",
      "0   chromedriver                        0x00000001013c26b8 chromedriver\n",
      "========== data/tg_data/41/41d4d7aaf9689013313d-CODE.txt Other ==========\n",
      "—->\n",
      "        <ogc:Function name=\"area\">\n",
      "         <ogc:PropertyName>geom</ogc:PropertyName>\n",
      "        </ogc:Function>\n",
      "<—-\n",
      "========== data/tg_data/f4/f49a08e399c87fc8b1de-OTHER.txt C ==========\n",
      " ___________\n",
      "< boop boop >\n",
      " -----------\n",
      "  \\ \n",
      "   \\\n",
      "  .-.  ,-.\n",
      "  ;oo  oo;\n",
      " / \\|  |/ \\\n",
      "|. `.  .' .|\n",
      "`;.;'  `;.;'\n",
      ".-^-.  .-^-.\n",
      "========== data/tg_data/b5/b59b84416a694f3ccfc3-OTHER.txt SQL ==========\n",
      "(TCH) Fuel Card Attached - $5.00\n",
      "\n",
      "\n",
      "========== data/tg_data/c6/c614ee2d35e0c823b01f-OTHER.txt C++ ==========\n",
      "License: LGPL-2.1+\n",
      " This program is free software; you can redistribute it and/or modify\n",
      " it under the terms of the GNU Lesser General Public License as published by\n",
      " the Free Software Foundation; either version 2.1, or (at your option)\n",
      " any later version.\n",
      "\n",
      "========== data/tg_data/e3/e32412cdcc4ead3295db-OTHER.txt Python ==========\n",
      "Traceback (most recent call last):\n",
      "  File \"/usr/local/lib/python3.10/dist-packages/pyrogram/methods/advanced/resolve_peer.py\", line 60, in resolve_peer\n",
      "    return await self.storage.get_peer_by_id(peer_id)\n",
      "  File \"/usr/local/lib/python3.10/dist-packages/pyrogram/storage/sqlite_storage.py\", line 147, in get_peer_by_id\n",
      "    raise KeyError(f\"ID not found: {peer_id}\")\n",
      "KeyError: 'ID not found: -100190659400'\n",
      "\n",
      "During handling of the above exception, another exception occurred:\n",
      "\n",
      "Traceback (most recent call last):\n",
      "  File \"/root/ReyyYukkiV2/YukkiMusic/plugins/devs/dev.py\", line 67, in executor\n",
      "    await aexec(cmd, client, message)\n",
      "  File \"/root/ReyyYukkiV2/YukkiMusic/plugins/devs/dev.py\", line 36, in aexec\n",
      "    return await locals()[\"__aexec\"](client, message)\n",
      "  File \"\", line 4, in __aexec\n",
      "  File \"/usr/local/lib/python3.10/dist-packages/pyrogram/methods/chats/promote_chat_member.py\", line 103, in promote_chat_member\n",
      "    channel=await self.resolve_peer(chat_id),\n",
      "  File \"/usr/local/lib/python3.10/dist-packages/pyrogram/methods/advanced/resolve_peer.py\", line 87, in resolve_peer\n",
      "    peer_type = utils.get_peer_type(peer_id)\n",
      "  File \"/usr/local/lib/python3.10/dist-packages/pyrogram/utils.py\", line 204, in get_peer_type\n",
      "    raise ValueError(f\"Peer id invalid: {peer_id}\")\n",
      "ValueError: Peer id invalid: -100190659400\n",
      "========== data/tg_data/04/04778e67e5a2386a8390-CODE.txt Other ==========\n",
      "AutoConnect=true\n",
      "AutoScan=on\n",
      "========== data/tg_data/f5/f5d76ac21f37cce66f5c-CODE.txt Other ==========\n",
      "auth.effect\n",
      "auth.actions (signUp, signIn)\n",
      "\n",
      "generic.effect\n",
      "generic.actions (success, fail, pending, etc)\n",
      "========== data/tg_data/f2/f216b67232bb2206fc40-CODE.txt Other ==========\n",
      "Input: nums1 = [-1,-1], nums2 = [1,1]\n",
      "Output: -1\n",
      "Explanation: Take subsequence [-1] from nums1 and subsequence [1] from nums2.\n",
      "Their dot product is -1.\n",
      "========== data/tg_data/3b/3ba0b0da1eac418122d3-OTHER.txt Shell ==========\n",
      "[preferred]\n",
      "default=gtk\n",
      "========== data/tg_data/8f/8f407c36f691eb6dddab-OTHER.txt HTML ==========\n",
      " /api/v1.0/integration/cache/syncbuildingscabinets STATUS: ServiceUnavailable ErrorMessage:  CONTENT: <!DOCTYPE HTML PUBLIC \"-//W3C//DTD HTML 4.01//EN\"\"http://www.w3.org/TR/html4/strict.dtd\">\n",
      "<HTML><HEAD><TITLE>Service Unavailable</TITLE>\n",
      "<META HTTP-EQUIV=\"Content-Type\" Content=\"text/html; charset=us-ascii\"></HEAD>\n",
      "<BODY><h2>Service Unavailable</h2>\n",
      "<hr><p>HTTP Error 503. The service is unavailable.</p>\n",
      "</BODY></HTML>\n",
      "\n",
      "URI: /api/v1.0/integration/cache/syncbuildingscabinets STATUS: ServiceUnavailable ErrorMessage:  CONTENT: <!DOCTYPE HTML PUBLIC \"-//W3C//DTD HTML 4.01//EN\"\"http://www.w3.org/TR/html4/strict.dtd\">\n",
      "<HTML><HEAD><TITLE>Service Unavailable</TITLE>\n",
      "<META HTTP-EQUIV=\"Content-Type\" Content=\"text/html; charset=us-ascii\"></HEAD>\n",
      "<BODY><h2>Service Unavailable</h2>\n",
      "<hr><p>HTTP Error 503. The service is unavailable.</p>\n",
      "</BODY></HTML>\n",
      "========== data/tg_data/74/742beef3804f7dc777bd-CODE.txt Other ==========\n",
      "pre-formatted fixed-width code block\n",
      "========== data/tg_data/01/013317699f13b946734f-OTHER.txt Lua ==========\n",
      "\n",
      "v_y = 0 = u_y - gt\n",
      "t = u_y / g = 8.66 m/s / 9.81 m/s^2 = 0.88 s\n",
      "\n",
      "========== data/tg_data/95/952688b0e9e63033599d-CODE.txt Other ==========\n",
      "      $ git restore example.txt\n",
      "\n",
      "\n",
      "========== data/tg_data/ad/add48cc971ff9b40dee8-OTHER.txt SQL ==========\n",
      "vkGetDescriptorEXT(): type is VK_DESCRIPTOR_TYPE_UNIFORM_BUFFER, but pUniformBuffer is NULL and the nullDescriptor feature is not enabled. The Vulkan spec states: If VkDescriptorGetInfoEXT:type is VK_DESCRIPTOR_TYPE_UNIFORM_BUFFER, and the nullDescriptor feature is not enabled, pUniformBuffer must not be NULL\n",
      "========== data/tg_data/e5/e531c7387975c3b40b27-CODE.txt Other ==========\n",
      "\\documentclass[mathserif]{beamer}\n",
      "\n",
      "\n",
      "========== data/tg_data/98/9817c31d85cf20fed5b9-CODE.txt Other ==========\n",
      "\n",
      "iex(3)> IO.puts [45, 46, 47, \"hello\"]\n",
      "-./hello\n",
      ":ok\n",
      "iex(4)> IO.puts [45, 46, 47 | \"hello\"]\n",
      "-./hello\n",
      ":ok\n",
      "iex(5)> IO.puts [45, 46 | 47]\n",
      "** (ArgumentError) argument error\n",
      "    (stdlib 5.0.2) io.erl:99: :io.put_chars(:standard_io, [[45, 46 | 47], 10])\n",
      "    iex:5: (file)\n",
      "========== data/tg_data/8a/8a9d78f7a0af91a4afe8-CODE.txt Other ==========\n",
      "public async Task<string> CreatePaymentAsync(OrderOnlineForCreateDTOs[] orderForOnlineCreatDTO)\n",
      "        {         \n",
      "\n",
      "            var customFilds = new List<SessionCustomFieldOptions>\n",
      "            {\n",
      "                new SessionCustomFieldOptions\n",
      "                {\n",
      "                    Type = \"text\",\n",
      "                    Key = \"Name\",\n",
      "                    Text = new SessionCustomFieldTextOptions\n",
      "                    {\n",
      "                        MaximumLength = 100,\n",
      "                        MinimumLength = 3,\n",
      "                    },\n",
      "                    Label = new SessionCustomFieldLabelOptions\n",
      "                    {\n",
      "                        Type = \"custom\",\n",
      "                        Custom = \"Name\"\n",
      "                    }\n",
      "                }\n",
      "            };\n",
      "\n",
      "            var lineItems =  new List<SessionLineItemOptions>();\n",
      "            allPrice = 0;\n",
      "\n",
      "            foreach (var item in orderForOnlineCreatDTO)\n",
      "            {\n",
      "                onlineOrder.Add(item);\n",
      "\n",
      "                var product = await _productService.GetAsync(x => x.Id == item.ProductId);\n",
      "                string imagePath = $\"{product.Image.Name}\".Replace(\"\\\\\", \"/\");\n",
      "                var productPrice = (long)((product.PriceSkitka == 0 ? product.Price : product.PriceSkitka) * 105);\n",
      "                allPrice += productPrice;\n",
      "\n",
      "                lineItems.Add( new SessionLineItemOptions\n",
      "                {\n",
      "                    PriceData = new SessionLineItemPriceDataOptions\n",
      "                    {\n",
      "                        Currency = \"aed\",\n",
      "                        UnitAmount = productPrice,\n",
      "                        ProductData = new SessionLineItemPriceDataProductDataOptions\n",
      "                        {\n",
      "                            Name = product.NameEg,\n",
      "                            Description = product.OpisaniyaEg,\n",
      "                            Images = new List<string> { imagePath },\n",
      "                        }\n",
      "                    },\n",
      "                    Quantity = item.ProductNumber\n",
      "                });\n",
      "            }\n",
      "\n",
      "            var options = new SessionCreateOptions\n",
      "            {\n",
      "                CustomFields = customFilds,\n",
      "                PaymentMethodTypes = new List<string>\n",
      "                {\n",
      "                    \"card\"\n",
      "                },\n",
      "                LineItems = lineItems,\n",
      "                Mode = \"payment\",\n",
      "                SuccessUrl = \"\",\n",
      "                CancelUrl = \"https://localhost:7106/api/test/cancel\",\n",
      "                PhoneNumberCollection = new SessionPhoneNumberCollectionOptions\n",
      "                {\n",
      "                    Enabled = true,\n",
      "                }                \n",
      "            };\n",
      "\n",
      "            var service = new SessionService();\n",
      "            var ass = await service.CreateAsync(options);\n",
      "\n",
      "            return ass.ToJson();\n",
      "        }\n",
      "========== data/tg_data/83/8396a6975556ec6cbf37-CODE.txt Other ==========\n",
      "multiplier :: Int\n",
      "multiplier = if execute userInt == 3 then 3 else 3\n",
      "========== data/tg_data/12/12abe712de5f153b3858-CODE.txt Other ==========\n",
      "mklink /j \"%COMMONPROGRAMFILES\\VST3\\Waves\" \"D:\\ПУТЬ\\К\\УСТАНОВЛЕННЫМ\\ПЛАГИНАМ\\ОТ\\WAVES\"\n",
      "========== data/tg_data/b6/b6647c49bf3ddda6a6e0-CODE.txt Other ==========\n",
      "oAdoc = ThisApplication.ActiveDocument  a = oAdoc.ComponentDefinition.SurfaceBodies.Item(1)\n",
      "  MessageBox.Show(a.Faces.Count)\n",
      "  For Each oFace In a.Faces\n",
      "   MessageBox.Show(oFace.GeometryForm)\n",
      "  Next\n",
      "========== data/tg_data/3b/3bd06d4c14dfbb664cb6-CODE.txt Other ==========\n",
      "abcd := 5\n",
      "...\n",
      "// lots of lines\n",
      "....\n",
      "avcd = 5\n",
      "========== data/tg_data/06/061b7d7bd5e7015c32bf-OTHER.txt TL ==========\n",
      "AXIS - XL DATA PROMO KODE(ALM & XLM) \n",
      "\n",
      "========== data/tg_data/f5/f53ae77c6f8576b1a867-CODE.txt Other ==========\n",
      "// инициализация переменных, есть проблемы если попытаться использовать в расчетах нигде не до этого не применяя\n",
      "intval2=0\n",
      "intval3=0\n",
      "intval4=0\n",
      "\n",
      ":loop // начало цикла\n",
      "\n",
      "if(hour>=7&&hour<23) // действия для дневного тарифа который у меня с 7 до 23\n",
      " if(intval3=0) // проверка первого запуска\n",
      "  intval3=pmwh\n",
      " else // действия при последуюших итерациях \n",
      "  intval1=pmwh-intval3 // вычисление разницы между текущим значением счетчика и значением на предыдущей итерации\n",
      "  intval2=intval2+intval1 // накопление количества потребления в дневном режиме, на главной выведено через _INTVAL2_, размерность Вт\n",
      "  intval3=pmwh // сохраннение текущего значения для следующей итерации\n",
      " endif\n",
      "else // действия для ночного тарифа\n",
      " if(intval3=0) // проверка первого запуска\n",
      "  intval3=pmwh\n",
      " else // действия при последуюших итерациях\n",
      "  intval1=pmwh-intval3 // вычисление разницы между текущим значением счетчика и значением на предыдущей итерации\n",
      "  intval4=intval4+intval1 // накопление количества потребления в ночном режиме, на главной выведено через _INTVAL4_, размерность Вт\n",
      "  intval3=pmwh // сохраннение текущего значения для следующей итерации\n",
      " endif\n",
      "endif\n",
      "\n",
      "delay(100) // необходимая для работы цикла задержка\n",
      "goto loop // переход в начало цикла\n",
      "========== data/tg_data/d5/d5f1da124de341d77c73-OTHER.txt Python ==========\n",
      "assert True\n",
      "========== data/tg_data/d5/d53a5a2f9f83e81f01dd-CODE.txt Other ==========\n",
      "reg add \"HKCU\\Software\\Classes\\CLSID\\{86ca1aa0-34aa-4e8b-a509-50c905bae2a2}\\InprocServer32\" /f\n",
      "taskkill /F /IM explorer.exe\n",
      "explorer.exe\n",
      "\n",
      "========== data/tg_data/ef/ef976ce18d92694b5144-OTHER.txt PowerShell ==========\n",
      "Match User app-xyz\n",
      "    AuthorizedKeysFile /home/admin-1/.ssh/authorized_keys /home/admin-2/.ssh/authorized_keys\n",
      "========== data/tg_data/ca/ca7b22bad78977fcb983-CODE.txt Other ==========\n",
      "RewriteRule ^events/bait/me-reward$ /modules/events/bait/mereward.php [L,QSA,NC]\n",
      "========== data/tg_data/5d/5d17463c18467d0f962b-CODE.txt Other ==========\n",
      "js\n",
      "console.log(123 + \"Testo\");\n",
      "/\n",
      "\n",
      "========== data/tg_data/f2/f2915f920117b6f00e9c-OTHER.txt JavaScript ==========\n",
      "javascript\n",
      "\n",
      "========== data/tg_data/f6/f6460d7d9d2b32d0dbd2-OTHER.txt Go ==========\n",
      "`\n",
      "\n",
      "========== data/tg_data/1d/1d3f06d1280986fc3a77-OTHER.txt Shell ==========\n",
      "cat /etc/sddm.conf\n",
      "[General]\n",
      "DisplayServer=wayland\n",
      "GreeterEnvironment=QT_WAYLAND_SHELL_INTEGRATION=layer-shell\n",
      "InputMethod=\n",
      "\n",
      "[Theme]\n",
      "CursorTheme=Breeze_Snow\n",
      "\n",
      "[Wayland]\n",
      "CompositorCommand=/usr/bin/kwin_wayland --no-lockscreen --inputmethod fcitx5\n",
      "EnableHiDPI=true\n",
      "========== data/tg_data/54/54493f6fb38a4bab26cd-CODE.txt Other ==========\n",
      "Для каждого Эл из Объект.Услуги Цикл\n",
      "  Если Эл.Номенклатура.Наименование = \"Доставка\" Тогда \n",
      "    Эл.Номенклатура.Наименование = \"Доставка (сторонняя)\";\n",
      "  КонецЕсли;  \n",
      "КонецЦикла;\n",
      "\n",
      "\n",
      "========== data/tg_data/e3/e36d0dd55c71354624e4-OTHER.txt Rust ==========\n",
      "+GOOGGETNV: \"UECAPA_NR_FSDL_1_BM\",0,\"C7,01\"\n",
      "\n",
      "OK\n",
      "\n",
      "+GOOGGETNV: \"UECAPA_NR_FSDL_2_BM\",0,\"D7,01\"\n",
      "\n",
      "OK\n",
      "\n",
      "+GOOGGETNV: \"UECAPA_NR_FSDL_1_BM1540\",0,\"0D\"\n",
      "\n",
      "OK\n",
      "\n",
      "+GOOGGETNV: \"UECAPA_NR_FSDL_2_BM1540\",0,\"0D\"\n",
      "\n",
      "OK\n",
      "========== data/tg_data/ef/ef15f198e5e2c46c3b3a-OTHER.txt Shell ==========\n",
      "($10 - $19 | 1000 - 1900) - $1.5\n",
      "($19 - $29 | 1900 - 2900) - $3\n",
      "($29 - $39 | 2900 - 3900) - $5\n",
      "($39 - $49 | 3900 - 4900) - $7\n",
      "($60 - $75 | 6000 - 7500) - $8.5\n",
      "($90 - $130 | 9000 - 13000) - $12\n",
      "(Account with Fleet Card) - $5\n",
      "\n",
      "\n",
      "========== data/tg_data/8f/8fd168dfbeebf9c952a1-CODE.txt Other ==========\n",
      "[mipi]\n",
      "lane_id = 0|1|-1|-1|-1|-1|-1|-1|          ;lane_id: -1 - disable\n",
      "========== data/tg_data/d8/d8da2ad08079e1408b16-CODE.txt Other ==========\n",
      "yum makecache && yum update -y v2ray-plugin && v2ray-plugin -version\n",
      "\n",
      "\n",
      "========== data/tg_data/2b/2b6f58208c76c3caa36f-CODE.txt Other ==========\n",
      "/ip address add address=1.100.0.1/24 interface=ether1 network=1.100.0.0\n",
      "/ip address add address=10.240.17.1 interface=wg-base network=10.240.17.1\n",
      "\n",
      "/interface wireguard add listen-port=5002 mtu=1420 name=wg-link-in\n",
      "/interface wireguard peers add allowed-address=172.30.102.15/32,10.240.180.0/24 endpoint-port=31515 interface=wg-link-in public-key=\"vWZntcZFbGclHdxf25RzOKub84uPiTeYBi/Cj9d9U0w=\"\n",
      "\n",
      "/ip route add check-gateway=ping disabled=no distance=10 dst-address=10.240.180.0/24 gateway=172.30.1\n",
      "02.15 pref-src=172.30.102.1 routing-table=main scope=30 suppress-hw-offload=no target-scope=10\n",
      "/ip route add disabled=no distance=1 dst-address=172.30.102.0/24 gateway=wg-link-in pref-src=172.30.102.1 routing-table=main scope=30 suppress-hw-offload=no target-scope=10\n",
      "\n",
      "\n",
      "========== data/tg_data/a5/a52b91e2d469159c55b5-OTHER.txt TL ==========\n",
      "TAEgXFNSgmXLvYTS9sHqa1AmeVeUaAHwne\n",
      "\n",
      "\n",
      "========== data/tg_data/d5/d5a525e24ed028800324-CODE.txt Other ==========\n",
      "build:\n",
      "  @./variables.sh\n",
      "  @ls -lah\n",
      "  @echo ${CI_PROJECT_DIR}/.env\n",
      "  @include ${CI_PROJECT_DIR}/.env\n",
      "\n",
      "========== data/tg_data/d2/d2f476f14c7e3a51457a-CODE.txt Other ==========\n",
      " $  cat /etc/passwd  | grep vlad\n",
      "vlad:x:1000:1000:vlad,,,:/home/vlad:/usr/bin/fish\n",
      "========== data/tg_data/1c/1ce285cf603ab274ed13-OTHER.txt Lua ==========\n",
      " 03:38:12\",\"created_at\":\"2023-10-07 03:38:12\"}}}\n",
      "========== data/tg_data/86/8610c349152aa448f808-CODE.txt Other ==========\n",
      "FDV = (total supply - burned supply) * price\n",
      "========== data/tg_data/40/4062d53d8340a17f7b35-CODE.txt Other ==========\n",
      "printf \"%.4g\n",
      "\n",
      "========== data/tg_data/67/67a9cd2827c768000b5a-CODE.txt Other ==========\n",
      "O`qituvchilar\n",
      "    F.I.SH\n",
      "    Maxinum dars soati(default=30)\n",
      "    Fanlar{informatika, matematika}\n",
      "    is_boshl`ng`ich( \n",
      "                   1-4 => 27\n",
      "                   5-11=>30\n",
      ")\n",
      "\n",
      "\n",
      "Sinflar:{\n",
      "    name: 1A,\n",
      "    max_soat: 6\n",
      "    Smena: 1 or 2\n",
      "    \n",
      "    }\n",
      "\n",
      "Fan:\n",
      "    Sinfxonasi:125\n",
      "========== data/tg_data/54/544de543520109023898-OTHER.txt TL ==========\n",
      "airtron.netlify.app\n",
      "========== data/tg_data/2c/2c5f71d424e83ce18b06-CODE.txt Other ==========\n",
      "(use-package flymake\n",
      "  :bind ((\"H-e\" . flymake-show-project-diagnostics))\n",
      "\n",
      "(use-package sh-script\n",
      "  :hook (sh-mode . flymake-mode))\n",
      "\n",
      "========== data/tg_data/74/743ba4d9052311f18190-OTHER.txt TL ==========\n",
      " 21 set(ATOMVM_BASE_VERSION \"0.6.0-alpha.1\")\n",
      " 22 set(ATOMVM_DEV TRUE)\n",
      "========== data/tg_data/48/48ca5dacd1e5e87a1501-CODE.txt Other ==========\n",
      "adelie-live ~ # apk list -I '*ttf*'\n",
      "adelie-live ~ #\n",
      "========== data/tg_data/b4/b4f35dc928c747928eb2-CODE.txt Other ==========\n",
      "sqd up\n",
      "\n",
      "npm ci\n",
      "sqd build\n",
      "sqd migration:apply\n",
      "\n",
      "sqd run .\n",
      "\n",
      "========== data/tg_data/6f/6f9d242b8cabf7534b07-CODE.txt Other ==========\n",
      "stage => production\n",
      "debugId => d7aa7d73-b988-49f1-8dbc-67de350073ea\n",
      "consumerName => ez_member_ipn\n",
      "========== data/tg_data/61/61bb993106cd9afdd0d5-OTHER.txt Ruby ==========\n",
      "await c.send_message('sunda005', rm)\n",
      "========== data/tg_data/bf/bf103ed6efad215029e2-OTHER.txt Python ==========\n",
      "  File \"/app/resolveUsername.py\", line 216, in endpoint\n",
      "    names, bio, chat_type = await website(user_name, session=session)\n",
      "  File \"/app/resolveUsername.py\", line 97, in website\n",
      "    raise RegexFailedError\n",
      "========== data/tg_data/41/41d0d79992145ce4d9ca-OTHER.txt TL ==========\n",
      "Error during unshare(CLONE_NEWUSER): Operation not permitted\n",
      "ERRO[0000] parsing PID \"\": strconv.Atoi: parsing \"\": invalid syntax\n",
      "ERRO[0000] (Unable to determine exit status)\n",
      "\n",
      "========== data/tg_data/a2/a29a3355c14a4ba2fe54-OTHER.txt Python ==========\n",
      "ANASKHADAJ\n",
      "========== data/tg_data/a2/a21e1bf04df0990cfd16-OTHER.txt TL ==========\n",
      "Строка(12355.44) // \"12 355,44\"\n",
      "\n",
      "========== data/tg_data/f5/f5ba519035546155798c-CODE.txt Other ==========\n",
      "\n",
      "class A\n",
      "  def foo = \"bar\"\n",
      "end\n",
      "\n",
      "class B < A\n",
      "  def bar = \"foo\"\n",
      "end\n",
      "\n",
      "B.instance_methods.grep(/foo|bar/)\n",
      "# => [:bar, :foo]\n",
      "========== data/tg_data/29/29a76a8c2d1c05c0a77d-OTHER.txt SQL ==========\n",
      " for @don_b_don (#793712331)\n",
      "========== data/tg_data/c6/c64325fbb8ddf6e693e0-CODE.txt Other ==========\n",
      "fastboot flash boot <name of recovery file here>\n",
      "========== data/tg_data/e5/e5286f53b93eb52aedff-CODE.txt Other ==========\n",
      "cmd package bg-dexopt-job\n",
      "========== data/tg_data/42/423dd0556f4cfa4e624d-CODE.txt Other ==========\n",
      "R\n",
      "library(AER)\n",
      "\n",
      "# Specify the tobit model\n",
      "model <- tobit(dependent_var ~ independent_vars, data = your_data, left = 0)\n",
      "\n",
      "# Print the model summary\n",
      "summary(model)\n",
      "\n",
      "========== data/tg_data/06/0603dd17306769c65f93-OTHER.txt NGINX ==========\n",
      "remote 10.8.254.254 10000\n",
      "proto tcp-client\n",
      "socks-proxy 127.0.0.1 2080\n",
      "dev tap\n",
      "ifconfig 10.8.0.2 255.255.255.0\n",
      "========== data/tg_data/02/02da3ed25f9963676146-CODE.txt Other ==========\n",
      "\"healthcare\": \"podiatrist\"\n",
      "========== data/tg_data/cd/cdf19703f3ca6ee63f27-CODE.txt Other ==========\n",
      "bcdedit /set hypervisorlaunchtype auto\n",
      "\n",
      "========== data/tg_data/11/110cb50357c7a35a3440-CODE.txt Other ==========\n",
      "import paramiko\n",
      "\n",
      "========== data/tg_data/f9/f9f9bd368936093f5da1-CODE.txt Other ==========\n",
      "window.firstName = 'Roman'\n",
      "\n",
      "\n",
      "========== data/tg_data/4b/4bdcdd5ae231528901e0-OTHER.txt C++ ==========\n",
      "2 * 10 = ?\n",
      "========== data/tg_data/28/28610fe9923e9eb5e215-OTHER.txt Python ==========\n",
      "EVERWEEDAY INDEPENDENT\n",
      "========== data/tg_data/f3/f31c5e13344201b4320a-OTHER.txt SQL ==========\n",
      "PS C:\\kotlin\\gui_compose> ./gradlew createDistributable\n",
      "> Task :checkRuntime FAILED\n",
      "\n",
      "FAILURE: Build failed with an exception.\n",
      "\n",
      "* What went wrong:\n",
      "Execution failed for task ':checkRuntime'.\n",
      "> Failed to check JDK distribution: 'jlink.exe', 'jpackage.exe' are missing\n",
      "  JDK distribution path: C:\\Program Files\\Eclipse Adoptium\\jre-11.0.20.101-hotspot\n",
      "\n",
      "\n",
      "========== data/tg_data/bf/bf92ad7d997eb9c6e880-OTHER.txt Python ==========\n",
      "Failed to join\n",
      "MatrixError: [403] M_FORBIDDEN: Event is not authorized. (https://matrix-client.matrix.org/_matrix/client/v3/join/!N8slhBFeWcBDNqW0ic%3Aixit.cz?server_name=ixit.cz)\n",
      "========== data/tg_data/46/465dc1f4eff2100d5e4d-CODE.txt Other ==========\n",
      "\\begin{equation*}\n",
      "F(n) =\n",
      " \\begin{cases}\n",
      "   0 &\n",
      "ext{n = 0}\\\\\n",
      "   1 &\n",
      "ext{n = 1}\\\\\n",
      "   (F_{\\lceil\\frac{n}{2}\\rceil})^2 + (F_{⌈\\frac{n}{2}\\rceil-1})^2 & \n",
      "ext{ n }\\geqslant 2 \\land Ост_2n=1\\\\\n",
      "   (F_{\\lceil\\frac{n}{2}\\rceil})^2 + 2*(F_{\\lceil\\frac{n}{2}\\rceil})*(F_{\\lceil\\frac{n}{2}\\rceil-1}) & \n",
      "ext{ n }\\geqslant 2 \\land Ост_2n=0\\\\\n",
      " \\end{cases}\n",
      "\\end{equation*}\n",
      "\n",
      "\n",
      "\n",
      "========== data/tg_data/0d/0d65d0f31a910f48bf58-OTHER.txt SQL ==========\n",
      "--autounmask-write\n",
      "========== data/tg_data/9c/9c9ac6d094a671db4509-CODE.txt Other ==========\n",
      "---\n",
      "title: \"October 07, 2023 | LCB\"\n",
      "author: \"Nome de quem criou a nota\"\n",
      "dates:\n",
      "  - created: \"Data de criação da nota no formato MMMM D, YYYY\"\n",
      "  - modified: \"Data de edição/modificação da nota no formato MMMM D, YYYY\"\n",
      "tags: [\" livro_cap_vers temas_correlatos personagens_envolvidos \"]\n",
      "aliases: [\"temas correlatos\", \"\"]\n",
      "abstract: \"Uma breve descrição do conteúdo dessa nota.\"\n",
      "lang: \"pt-BR\"\n",
      "---\n",
      "\n",
      "<!-- NOME DA NOTA ~ CRIADO EM YYYY/MM/DD ~ ATUALIZADO EM YYYY/MM/DD -->\n",
      "\n",
      "# NOME DA NOTA\n",
      "\n",
      "<p>&nbsp;</p>\n",
      "\n",
      "> [!info]+ Contexto\n",
      "> Uma breve descrição do conteúdo dessa nota.\n",
      "\n",
      "<p>&nbsp;</p>\n",
      "\n",
      "Conteúdo da nota\n",
      "\n",
      "<p>&nbsp;</p>\n",
      "\n"
     ]
    }
   ],
   "source": [
    "for _, row in data[data.is_miss == 1].iterrows():\n",
    "    print('='*10, row[\"file\"], row[\"prediction_str\"], '='*10)\n",
    "    print(row[\"text\"])"
   ]
  },
  {
   "cell_type": "code",
   "execution_count": 43,
   "metadata": {},
   "outputs": [
    {
     "data": {
      "text/html": [
       "<div>\n",
       "<style scoped>\n",
       "    .dataframe tbody tr th:only-of-type {\n",
       "        vertical-align: middle;\n",
       "    }\n",
       "\n",
       "    .dataframe tbody tr th {\n",
       "        vertical-align: top;\n",
       "    }\n",
       "\n",
       "    .dataframe thead th {\n",
       "        text-align: right;\n",
       "    }\n",
       "</style>\n",
       "<table border=\"1\" class=\"dataframe\">\n",
       "  <thead>\n",
       "    <tr style=\"text-align: right;\">\n",
       "      <th></th>\n",
       "      <th>file</th>\n",
       "      <th>text</th>\n",
       "      <th>prediction</th>\n",
       "      <th>prediction_str</th>\n",
       "      <th>proba_is_code</th>\n",
       "      <th>is_code</th>\n",
       "      <th>is_miss</th>\n",
       "      <th>gt_lang</th>\n",
       "    </tr>\n",
       "  </thead>\n",
       "  <tbody>\n",
       "    <tr>\n",
       "      <th>54</th>\n",
       "      <td>data/tg_data/4f/4f344614e17f533e7d7b-CODE.txt</td>\n",
       "      <td>GET / HTTP1.1[lf]Host: tim92.com.br[lf]Upgrade...</td>\n",
       "      <td>0</td>\n",
       "      <td>Other</td>\n",
       "      <td>0.080122</td>\n",
       "      <td>1</td>\n",
       "      <td>1</td>\n",
       "      <td>None</td>\n",
       "    </tr>\n",
       "    <tr>\n",
       "      <th>224</th>\n",
       "      <td>data/tg_data/37/37a725d141e301cdaab7-OTHER.txt</td>\n",
       "      <td>LIMITED EDITION</td>\n",
       "      <td>24</td>\n",
       "      <td>SQL</td>\n",
       "      <td>0.702847</td>\n",
       "      <td>0</td>\n",
       "      <td>1</td>\n",
       "      <td>None</td>\n",
       "    </tr>\n",
       "    <tr>\n",
       "      <th>263</th>\n",
       "      <td>data/tg_data/0a/0a9eacea691333a93384-OTHER.txt</td>\n",
       "      <td>(WHATAPP/INSTAGRAM/FACEBOOK/TIKTOK/YOUTUBE/TWI...</td>\n",
       "      <td>19</td>\n",
       "      <td>Python</td>\n",
       "      <td>0.972321</td>\n",
       "      <td>0</td>\n",
       "      <td>1</td>\n",
       "      <td>None</td>\n",
       "    </tr>\n",
       "    <tr>\n",
       "      <th>351</th>\n",
       "      <td>data/tg_data/37/3725a7f135ebf597f81b-CODE.txt</td>\n",
       "      <td>cscript //nologo %windir%\\system32\\slmgr.vbs /...</td>\n",
       "      <td>0</td>\n",
       "      <td>Other</td>\n",
       "      <td>0.001157</td>\n",
       "      <td>1</td>\n",
       "      <td>1</td>\n",
       "      <td>None</td>\n",
       "    </tr>\n",
       "    <tr>\n",
       "      <th>446</th>\n",
       "      <td>data/tg_data/3b/3b7a1ef808b6a5e9c831-OTHER.txt</td>\n",
       "      <td>[...]\\n\\n</td>\n",
       "      <td>26</td>\n",
       "      <td>TL</td>\n",
       "      <td>0.773536</td>\n",
       "      <td>0</td>\n",
       "      <td>1</td>\n",
       "      <td>None</td>\n",
       "    </tr>\n",
       "    <tr>\n",
       "      <th>...</th>\n",
       "      <td>...</td>\n",
       "      <td>...</td>\n",
       "      <td>...</td>\n",
       "      <td>...</td>\n",
       "      <td>...</td>\n",
       "      <td>...</td>\n",
       "      <td>...</td>\n",
       "      <td>...</td>\n",
       "    </tr>\n",
       "    <tr>\n",
       "      <th>5795</th>\n",
       "      <td>data/tg_data/f3/f31c5e13344201b4320a-OTHER.txt</td>\n",
       "      <td>PS C:\\kotlin\\gui_compose&gt; ./gradlew createDist...</td>\n",
       "      <td>24</td>\n",
       "      <td>SQL</td>\n",
       "      <td>0.985900</td>\n",
       "      <td>0</td>\n",
       "      <td>1</td>\n",
       "      <td>None</td>\n",
       "    </tr>\n",
       "    <tr>\n",
       "      <th>5831</th>\n",
       "      <td>data/tg_data/bf/bf92ad7d997eb9c6e880-OTHER.txt</td>\n",
       "      <td>Failed to join\\nMatrixError: [403] M_FORBIDDEN...</td>\n",
       "      <td>19</td>\n",
       "      <td>Python</td>\n",
       "      <td>0.980343</td>\n",
       "      <td>0</td>\n",
       "      <td>1</td>\n",
       "      <td>None</td>\n",
       "    </tr>\n",
       "    <tr>\n",
       "      <th>5836</th>\n",
       "      <td>data/tg_data/46/465dc1f4eff2100d5e4d-CODE.txt</td>\n",
       "      <td>\\begin{equation*}\\nF(n) =\\n \\begin{cases}\\n   ...</td>\n",
       "      <td>0</td>\n",
       "      <td>Other</td>\n",
       "      <td>0.411892</td>\n",
       "      <td>1</td>\n",
       "      <td>1</td>\n",
       "      <td>None</td>\n",
       "    </tr>\n",
       "    <tr>\n",
       "      <th>6046</th>\n",
       "      <td>data/tg_data/0d/0d65d0f31a910f48bf58-OTHER.txt</td>\n",
       "      <td>--autounmask-write</td>\n",
       "      <td>24</td>\n",
       "      <td>SQL</td>\n",
       "      <td>0.881638</td>\n",
       "      <td>0</td>\n",
       "      <td>1</td>\n",
       "      <td>None</td>\n",
       "    </tr>\n",
       "    <tr>\n",
       "      <th>6064</th>\n",
       "      <td>data/tg_data/9c/9c9ac6d094a671db4509-CODE.txt</td>\n",
       "      <td>---\\ntitle: \"October 07, 2023 | LCB\"\\nauthor: ...</td>\n",
       "      <td>0</td>\n",
       "      <td>Other</td>\n",
       "      <td>0.289096</td>\n",
       "      <td>1</td>\n",
       "      <td>1</td>\n",
       "      <td>None</td>\n",
       "    </tr>\n",
       "  </tbody>\n",
       "</table>\n",
       "<p>124 rows × 8 columns</p>\n",
       "</div>"
      ],
      "text/plain": [
       "                                                file  \\\n",
       "54     data/tg_data/4f/4f344614e17f533e7d7b-CODE.txt   \n",
       "224   data/tg_data/37/37a725d141e301cdaab7-OTHER.txt   \n",
       "263   data/tg_data/0a/0a9eacea691333a93384-OTHER.txt   \n",
       "351    data/tg_data/37/3725a7f135ebf597f81b-CODE.txt   \n",
       "446   data/tg_data/3b/3b7a1ef808b6a5e9c831-OTHER.txt   \n",
       "...                                              ...   \n",
       "5795  data/tg_data/f3/f31c5e13344201b4320a-OTHER.txt   \n",
       "5831  data/tg_data/bf/bf92ad7d997eb9c6e880-OTHER.txt   \n",
       "5836   data/tg_data/46/465dc1f4eff2100d5e4d-CODE.txt   \n",
       "6046  data/tg_data/0d/0d65d0f31a910f48bf58-OTHER.txt   \n",
       "6064   data/tg_data/9c/9c9ac6d094a671db4509-CODE.txt   \n",
       "\n",
       "                                                   text  prediction  \\\n",
       "54    GET / HTTP1.1[lf]Host: tim92.com.br[lf]Upgrade...           0   \n",
       "224                                     LIMITED EDITION          24   \n",
       "263   (WHATAPP/INSTAGRAM/FACEBOOK/TIKTOK/YOUTUBE/TWI...          19   \n",
       "351   cscript //nologo %windir%\\system32\\slmgr.vbs /...           0   \n",
       "446                                           [...]\\n\\n          26   \n",
       "...                                                 ...         ...   \n",
       "5795  PS C:\\kotlin\\gui_compose> ./gradlew createDist...          24   \n",
       "5831  Failed to join\\nMatrixError: [403] M_FORBIDDEN...          19   \n",
       "5836  \\begin{equation*}\\nF(n) =\\n \\begin{cases}\\n   ...           0   \n",
       "6046                                 --autounmask-write          24   \n",
       "6064  ---\\ntitle: \"October 07, 2023 | LCB\"\\nauthor: ...           0   \n",
       "\n",
       "     prediction_str  proba_is_code  is_code  is_miss gt_lang  \n",
       "54            Other       0.080122        1        1    None  \n",
       "224             SQL       0.702847        0        1    None  \n",
       "263          Python       0.972321        0        1    None  \n",
       "351           Other       0.001157        1        1    None  \n",
       "446              TL       0.773536        0        1    None  \n",
       "...             ...            ...      ...      ...     ...  \n",
       "5795            SQL       0.985900        0        1    None  \n",
       "5831         Python       0.980343        0        1    None  \n",
       "5836          Other       0.411892        1        1    None  \n",
       "6046            SQL       0.881638        0        1    None  \n",
       "6064          Other       0.289096        1        1    None  \n",
       "\n",
       "[124 rows x 8 columns]"
      ]
     },
     "execution_count": 43,
     "metadata": {},
     "output_type": "execute_result"
    }
   ],
   "source": []
  },
  {
   "cell_type": "code",
   "execution_count": 115,
   "metadata": {},
   "outputs": [
    {
     "data": {
      "application/vnd.jupyter.widget-view+json": {
       "model_id": "b917a119bf1a46088484689c2be1dd48",
       "version_major": 2,
       "version_minor": 0
      },
      "text/plain": [
       "  0%|          | 0/23288 [00:00<?, ?it/s]"
      ]
     },
     "metadata": {},
     "output_type": "display_data"
    }
   ],
   "source": [
    "is_code = []\n",
    "scores = []\n",
    "\n",
    "for file in tqdm(files):\n",
    "    text = file.read_text()\n",
    "    logits = gru_bin.get_logits(text)\n",
    "    probas = torch.softmax(torch.as_tensor(logits), dim=0)\n",
    "\n",
    "    scores.append(probas[1])\n",
    "    is_code.append(file.stem.split(\"-\")[-1] == \"CODE\")\n",
    "\n",
    "scores = np.array(scores)\n",
    "is_code = np.array(is_code)"
   ]
  },
  {
   "cell_type": "code",
   "execution_count": 116,
   "metadata": {},
   "outputs": [
    {
     "data": {
      "text/plain": [
       "0.9086862656475783"
      ]
     },
     "execution_count": 116,
     "metadata": {},
     "output_type": "execute_result"
    }
   ],
   "source": []
  },
  {
   "cell_type": "code",
   "execution_count": 117,
   "metadata": {},
   "outputs": [],
   "source": []
  },
  {
   "cell_type": "code",
   "execution_count": 118,
   "metadata": {},
   "outputs": [
    {
     "data": {
      "text/plain": [
       "0.08480762624527653"
      ]
     },
     "execution_count": 118,
     "metadata": {},
     "output_type": "execute_result"
    }
   ],
   "source": [
    "is_code.mean()"
   ]
  },
  {
   "cell_type": "code",
   "execution_count": 119,
   "metadata": {},
   "outputs": [
    {
     "data": {
      "text/plain": [
       "23288"
      ]
     },
     "execution_count": 119,
     "metadata": {},
     "output_type": "execute_result"
    }
   ],
   "source": [
    "len(is_code)"
   ]
  },
  {
   "cell_type": "code",
   "execution_count": 127,
   "metadata": {},
   "outputs": [],
   "source": []
  },
  {
   "cell_type": "code",
   "execution_count": 126,
   "metadata": {},
   "outputs": [
    {
     "data": {
      "text/plain": [
       "0.9636722775678461"
      ]
     },
     "execution_count": 126,
     "metadata": {},
     "output_type": "execute_result"
    }
   ],
   "source": [
    "np.max(accuracies)"
   ]
  },
  {
   "cell_type": "code",
   "execution_count": 31,
   "metadata": {},
   "outputs": [],
   "source": [
    "i = np.argmax(accuracies)\n",
    "t0 = tt[i]"
   ]
  },
  {
   "cell_type": "code",
   "execution_count": 71,
   "metadata": {},
   "outputs": [
    {
     "data": {
      "text/plain": [
       "0.9636722775678461"
      ]
     },
     "execution_count": 71,
     "metadata": {},
     "output_type": "execute_result"
    }
   ],
   "source": [
    "accuracy_score(is_code, scores >= t0)"
   ]
  },
  {
   "cell_type": "code",
   "execution_count": 39,
   "metadata": {},
   "outputs": [
    {
     "data": {
      "text/plain": [
       "(0.6587341772151899, 0.008070191901656266)"
      ]
     },
     "execution_count": 39,
     "metadata": {},
     "output_type": "execute_result"
    }
   ],
   "source": [
    "tpr[i], fpr[i]"
   ]
  },
  {
   "cell_type": "code",
   "execution_count": 20,
   "metadata": {},
   "outputs": [
    {
     "data": {
      "image/png": "[encoded data removed]",
      "text/plain": [
       "<Figure size 1440x720 with 1 Axes>"
      ]
     },
     "metadata": {
      "needs_background": "light"
     },
     "output_type": "display_data"
    }
   ],
   "source": []
  },
  {
   "cell_type": "code",
   "execution_count": 67,
   "metadata": {},
   "outputs": [],
   "source": [
    "data = pd.read_csv(\"data/extra.csv\")"
   ]
  },
  {
   "cell_type": "code",
   "execution_count": 70,
   "metadata": {},
   "outputs": [
    {
     "data": {
      "text/plain": [
       "0.9628993473033322"
      ]
     },
     "execution_count": 70,
     "metadata": {},
     "output_type": "execute_result"
    }
   ],
   "source": [
    "1 - data.is_miss.mean()"
   ]
  },
  {
   "cell_type": "code",
   "execution_count": 72,
   "metadata": {},
   "outputs": [
    {
     "data": {
      "application/vnd.jupyter.widget-view+json": {
       "model_id": "5e4d85a47bca41e493fc7bf4d008ec1b",
       "version_major": 2,
       "version_minor": 0
      },
      "text/plain": [
       "  0%|          | 0/23288 [00:00<?, ?it/s]"
      ]
     },
     "metadata": {},
     "output_type": "display_data"
    }
   ],
   "source": []
  },
  {
   "cell_type": "code",
   "execution_count": 73,
   "metadata": {},
   "outputs": [],
   "source": []
  },
  {
   "cell_type": "code",
   "execution_count": 74,
   "metadata": {},
   "outputs": [],
   "source": []
  },
  {
   "cell_type": "code",
   "execution_count": 78,
   "metadata": {},
   "outputs": [
    {
     "data": {
      "text/plain": [
       "0.9613105462040535"
      ]
     },
     "execution_count": 78,
     "metadata": {},
     "output_type": "execute_result"
    }
   ],
   "source": [
    "1 - misses.mean()"
   ]
  },
  {
   "cell_type": "code",
   "execution_count": 129,
   "metadata": {},
   "outputs": [
    {
     "data": {
      "text/html": [
       "<div>\n",
       "<style scoped>\n",
       "    .dataframe tbody tr th:only-of-type {\n",
       "        vertical-align: middle;\n",
       "    }\n",
       "\n",
       "    .dataframe tbody tr th {\n",
       "        vertical-align: top;\n",
       "    }\n",
       "\n",
       "    .dataframe thead th {\n",
       "        text-align: right;\n",
       "    }\n",
       "</style>\n",
       "<table border=\"1\" class=\"dataframe\">\n",
       "  <thead>\n",
       "    <tr style=\"text-align: right;\">\n",
       "      <th></th>\n",
       "      <th>file</th>\n",
       "      <th>text</th>\n",
       "      <th>prediction</th>\n",
       "      <th>prediction_str</th>\n",
       "      <th>is_code</th>\n",
       "      <th>is_miss</th>\n",
       "      <th>gt_lang</th>\n",
       "    </tr>\n",
       "  </thead>\n",
       "  <tbody>\n",
       "    <tr>\n",
       "      <th>101</th>\n",
       "      <td>data/extra/7b/7bcfc4ddf84804412c46-CODE.txt</td>\n",
       "      <td>function Bird() {\\n  let hatchedEgg = 10;\\n\\n ...</td>\n",
       "      <td>0</td>\n",
       "      <td>Other</td>\n",
       "      <td>1</td>\n",
       "      <td>1</td>\n",
       "      <td>None</td>\n",
       "    </tr>\n",
       "    <tr>\n",
       "      <th>113</th>\n",
       "      <td>data/extra/7b/7b4b284fe7710053443c-CODE.txt</td>\n",
       "      <td>operator==(const Type&amp;) = default;</td>\n",
       "      <td>0</td>\n",
       "      <td>Other</td>\n",
       "      <td>1</td>\n",
       "      <td>1</td>\n",
       "      <td>None</td>\n",
       "    </tr>\n",
       "    <tr>\n",
       "      <th>120</th>\n",
       "      <td>data/extra/7b/7b4ccef739ea526b48f3-CODE.txt</td>\n",
       "      <td>+ &lt;command&gt;\\n+--no-progress-meter --location -...</td>\n",
       "      <td>0</td>\n",
       "      <td>Other</td>\n",
       "      <td>1</td>\n",
       "      <td>1</td>\n",
       "      <td>None</td>\n",
       "    </tr>\n",
       "    <tr>\n",
       "      <th>176</th>\n",
       "      <td>data/extra/7b/7bac513e459b92e113c8-CODE.txt</td>\n",
       "      <td>&lt;div id=\"preview\"&gt;&lt;/div&gt;\\n&lt;input type=\"file\" o...</td>\n",
       "      <td>0</td>\n",
       "      <td>Other</td>\n",
       "      <td>1</td>\n",
       "      <td>1</td>\n",
       "      <td>None</td>\n",
       "    </tr>\n",
       "    <tr>\n",
       "      <th>178</th>\n",
       "      <td>data/extra/7b/7b532829112afd99dcad-CODE.txt</td>\n",
       "      <td>window\\n    .matchMedia(this._themeMedia)\\n   ...</td>\n",
       "      <td>0</td>\n",
       "      <td>Other</td>\n",
       "      <td>1</td>\n",
       "      <td>1</td>\n",
       "      <td>None</td>\n",
       "    </tr>\n",
       "    <tr>\n",
       "      <th>...</th>\n",
       "      <td>...</td>\n",
       "      <td>...</td>\n",
       "      <td>...</td>\n",
       "      <td>...</td>\n",
       "      <td>...</td>\n",
       "      <td>...</td>\n",
       "      <td>...</td>\n",
       "    </tr>\n",
       "    <tr>\n",
       "      <th>23199</th>\n",
       "      <td>data/extra/e4/e407e0f50a33d962ba83-CODE.txt</td>\n",
       "      <td>import httpclient\\n\\necho \"hello!\"\\n\\nlet clie...</td>\n",
       "      <td>0</td>\n",
       "      <td>Other</td>\n",
       "      <td>1</td>\n",
       "      <td>1</td>\n",
       "      <td>None</td>\n",
       "    </tr>\n",
       "    <tr>\n",
       "      <th>23217</th>\n",
       "      <td>data/extra/87/87025a27860ff25b5e09-CODE.txt</td>\n",
       "      <td>…\\n    private void Start()\\n    {\\n        Ri...</td>\n",
       "      <td>0</td>\n",
       "      <td>Other</td>\n",
       "      <td>1</td>\n",
       "      <td>1</td>\n",
       "      <td>None</td>\n",
       "    </tr>\n",
       "    <tr>\n",
       "      <th>23235</th>\n",
       "      <td>data/extra/87/87e7fe47dd0787d5ced3-CODE.txt</td>\n",
       "      <td>\\non: [push, pull_request]\\nname: CI\\njobs:\\n ...</td>\n",
       "      <td>0</td>\n",
       "      <td>Other</td>\n",
       "      <td>1</td>\n",
       "      <td>1</td>\n",
       "      <td>None</td>\n",
       "    </tr>\n",
       "    <tr>\n",
       "      <th>23261</th>\n",
       "      <td>data/extra/87/8717b1711e812c0fa6b1-CODE.txt</td>\n",
       "      <td>enum FuzzyOption&lt;T&gt; {\\n  Some(T),\\n  ProbablyW...</td>\n",
       "      <td>0</td>\n",
       "      <td>Other</td>\n",
       "      <td>1</td>\n",
       "      <td>1</td>\n",
       "      <td>None</td>\n",
       "    </tr>\n",
       "    <tr>\n",
       "      <th>23264</th>\n",
       "      <td>data/extra/87/87fb237c41dff611f050-CODE.txt</td>\n",
       "      <td>yum repo-pkgs teddysun list\\n\\n</td>\n",
       "      <td>0</td>\n",
       "      <td>Other</td>\n",
       "      <td>1</td>\n",
       "      <td>1</td>\n",
       "      <td>None</td>\n",
       "    </tr>\n",
       "  </tbody>\n",
       "</table>\n",
       "<p>901 rows × 7 columns</p>\n",
       "</div>"
      ],
      "text/plain": [
       "                                              file  \\\n",
       "101    data/extra/7b/7bcfc4ddf84804412c46-CODE.txt   \n",
       "113    data/extra/7b/7b4b284fe7710053443c-CODE.txt   \n",
       "120    data/extra/7b/7b4ccef739ea526b48f3-CODE.txt   \n",
       "176    data/extra/7b/7bac513e459b92e113c8-CODE.txt   \n",
       "178    data/extra/7b/7b532829112afd99dcad-CODE.txt   \n",
       "...                                            ...   \n",
       "23199  data/extra/e4/e407e0f50a33d962ba83-CODE.txt   \n",
       "23217  data/extra/87/87025a27860ff25b5e09-CODE.txt   \n",
       "23235  data/extra/87/87e7fe47dd0787d5ced3-CODE.txt   \n",
       "23261  data/extra/87/8717b1711e812c0fa6b1-CODE.txt   \n",
       "23264  data/extra/87/87fb237c41dff611f050-CODE.txt   \n",
       "\n",
       "                                                    text  prediction  \\\n",
       "101    function Bird() {\\n  let hatchedEgg = 10;\\n\\n ...           0   \n",
       "113                   operator==(const Type&) = default;           0   \n",
       "120    + <command>\\n+--no-progress-meter --location -...           0   \n",
       "176    <div id=\"preview\"></div>\\n<input type=\"file\" o...           0   \n",
       "178    window\\n    .matchMedia(this._themeMedia)\\n   ...           0   \n",
       "...                                                  ...         ...   \n",
       "23199  import httpclient\\n\\necho \"hello!\"\\n\\nlet clie...           0   \n",
       "23217  …\\n    private void Start()\\n    {\\n        Ri...           0   \n",
       "23235  \\non: [push, pull_request]\\nname: CI\\njobs:\\n ...           0   \n",
       "23261  enum FuzzyOption<T> {\\n  Some(T),\\n  ProbablyW...           0   \n",
       "23264                    yum repo-pkgs teddysun list\\n\\n           0   \n",
       "\n",
       "      prediction_str  is_code  is_miss gt_lang  \n",
       "101            Other        1        1    None  \n",
       "113            Other        1        1    None  \n",
       "120            Other        1        1    None  \n",
       "176            Other        1        1    None  \n",
       "178            Other        1        1    None  \n",
       "...              ...      ...      ...     ...  \n",
       "23199          Other        1        1    None  \n",
       "23217          Other        1        1    None  \n",
       "23235          Other        1        1    None  \n",
       "23261          Other        1        1    None  \n",
       "23264          Other        1        1    None  \n",
       "\n",
       "[901 rows x 7 columns]"
      ]
     },
     "execution_count": 129,
     "metadata": {},
     "output_type": "execute_result"
    }
   ],
   "source": [
    "data[misses]"
   ]
  },
  {
   "cell_type": "code",
   "execution_count": 24,
   "metadata": {},
   "outputs": [
    {
     "name": "stdout",
     "output_type": "stream",
     "text": [
      "<Address>,<quantity>\n",
      "OP_RETURN <messaggio HEX>, 0\n"
     ]
    }
   ],
   "source": [
    "print(data.loc[244].text)"
   ]
  },
  {
   "cell_type": "code",
   "execution_count": 33,
   "metadata": {},
   "outputs": [],
   "source": [
    "data.to_csv(\"data/extra.csv\")"
   ]
  },
  {
   "cell_type": "code",
   "execution_count": 8,
   "metadata": {},
   "outputs": [
    {
     "data": {
      "text/plain": [
       "0.8680555555555556"
      ]
     },
     "execution_count": 8,
     "metadata": {},
     "output_type": "execute_result"
    }
   ],
   "source": [
    "is_code[misses].mean()"
   ]
  },
  {
   "cell_type": "code",
   "execution_count": null,
   "metadata": {},
   "outputs": [],
   "source": []
  },
  {
   "cell_type": "code",
   "execution_count": 30,
   "metadata": {},
   "outputs": [
    {
     "data": {
      "text/plain": [
       "750"
      ]
     },
     "execution_count": 30,
     "metadata": {},
     "output_type": "execute_result"
    }
   ],
   "source": [
    "(predictions[misses] == 0).sum()"
   ]
  },
  {
   "cell_type": "code",
   "execution_count": 12,
   "metadata": {},
   "outputs": [
    {
     "data": {
      "text/plain": [
       "<Languages.CPLUSPLUS: 2>"
      ]
     },
     "execution_count": 12,
     "metadata": {},
     "output_type": "execute_result"
    }
   ],
   "source": []
  }
 ],
 "metadata": {
  "kernelspec": {
   "display_name": "Python 3",
   "language": "python",
   "name": "python3"
  },
  "language_info": {
   "codemirror_mode": {
    "name": "ipython",
    "version": 3
   },
   "file_extension": ".py",
   "mimetype": "text/x-python",
   "name": "python",
   "nbconvert_exporter": "python",
   "pygments_lexer": "ipython3",
   "version": "3.10.12"
  }
 },
 "nbformat": 4,
 "nbformat_minor": 2
}
