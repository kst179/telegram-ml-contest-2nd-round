{
 "cells": [
  {
   "cell_type": "code",
   "execution_count": 1,
   "metadata": {},
   "outputs": [],
   "source": [
    "from scripts.paths import *\n",
    "from scripts.gh_dataset import MixedDataset\n",
    "from scripts.languages_list import BinLabels, Languages\n",
    "from scripts.languages_list_old import Languages as LanguagesOld\n",
    "from scripts.gru_model import Network, NetworkConfig\n",
    "\n",
    "import numpy as np\n",
    "from matplotlib import pyplot as plt\n",
    "from tqdm.notebook import tqdm\n",
    "import json"
   ]
  },
  {
   "cell_type": "code",
   "execution_count": null,
   "metadata": {},
   "outputs": [],
   "source": [
    "NetworkConfig()"
   ]
  },
  {
   "cell_type": "code",
   "execution_count": 2,
   "metadata": {},
   "outputs": [],
   "source": [
    "with open(SPLIT_FILE) as fp:\n",
    "    splits = json.load(fp)"
   ]
  },
  {
   "cell_type": "code",
   "execution_count": 3,
   "metadata": {},
   "outputs": [],
   "source": [
    "dataset = MixedDataset(mode=\"langs\", split=\"train_gru\")"
   ]
  },
  {
   "cell_type": "code",
   "execution_count": 7,
   "metadata": {},
   "outputs": [
    {
     "data": {
      "text/plain": [
       "1"
      ]
     },
     "execution_count": 7,
     "metadata": {},
     "output_type": "execute_result"
    }
   ],
   "source": [
    "dataset.is_code[100000]"
   ]
  },
  {
   "cell_type": "code",
   "execution_count": 8,
   "metadata": {},
   "outputs": [
    {
     "data": {
      "text/plain": [
       "20"
      ]
     },
     "execution_count": 8,
     "metadata": {},
     "output_type": "execute_result"
    }
   ],
   "source": [
    "dataset.langs[100000]"
   ]
  },
  {
   "cell_type": "code",
   "execution_count": 9,
   "metadata": {},
   "outputs": [
    {
     "data": {
      "text/plain": [
       "PosixPath('data/gh_data/Ruby/aa1b29ca-17d6-45c2-bfbc-0ece7bb7c70e.rb')"
      ]
     },
     "execution_count": 9,
     "metadata": {},
     "output_type": "execute_result"
    }
   ],
   "source": [
    "dataset.files[100000]"
   ]
  },
  {
   "cell_type": "code",
   "execution_count": 10,
   "metadata": {},
   "outputs": [
    {
     "ename": "KeyError",
     "evalue": "'files'",
     "output_type": "error",
     "traceback": [
      "\u001b[0;31m---------------------------------------------------------------------------\u001b[0m",
      "\u001b[0;31mKeyError\u001b[0m                                  Traceback (most recent call last)",
      "\u001b[1;32m/home/kst179/telegram-ml-contest-2/FilterData.ipynb Cell 7\u001b[0m line \u001b[0;36m1\n\u001b[0;32m----> <a href='vscode-notebook-cell:/home/kst179/telegram-ml-contest-2/FilterData.ipynb#X64sZmlsZQ%3D%3D?line=0'>1</a>\u001b[0m splits[\u001b[39m\"\u001b[39;49m\u001b[39mfiles\u001b[39;49m\u001b[39m\"\u001b[39;49m]\n",
      "\u001b[0;31mKeyError\u001b[0m: 'files'"
     ]
    }
   ],
   "source": [
    "splits[\"files\"]"
   ]
  },
  {
   "cell_type": "code",
   "execution_count": 69,
   "metadata": {},
   "outputs": [
    {
     "name": "stdout",
     "output_type": "stream",
     "text": [
      "data/gh_data/PowerShell/45180670-1d82-470b-a1f6-fb716d0519db.ps1\n",
      "Languages.POWERSHELL\n",
      "    }\n",
      "\n",
      "    if($Credential.UserName -match \"\\\\\") {\n",
      "        $UserName = $Credential.UserName.Split(\"\\\")[1]\n",
      "        $Domain = $Credential.UserName.Split(\"\\\")[0]\n",
      "    }\n",
      "    else {\n",
      "        $UserName = $Credential.UserName\n",
      "    }\n",
      "\n",
      "    $tokenResult = $WebServiceProxy.Authenticate($UserName, $Credential.GetNetworkCredential().password, '', $Domain)\n",
      "    \n",
      "    if($tokenResult.Errors.Count -gt 0) {\n",
      "        Throw \"Authentication Error: $($tokenResult.Errors[0])\"\n",
      "    }\n",
      "\n",
      "    $token = $tokenResult.Token\n",
      "\n",
      "    if($passthru) {\n",
      "        $Token\n",
      "    }\n",
      "\n",
      "    if($UpdateSecretConfig) {\n",
      "        Set-SecretServerConfig -Token $Token\n",
      "        $SecretServerConfig.Token = $Token\n",
      "    }\n",
      "}\n",
      "\n"
     ]
    }
   ],
   "source": [
    "i = np.random.choice(len(dataset))\n",
    "text, label = dataset[i]\n",
    "print(dataset.files[i])\n",
    "print(Languages(label))\n",
    "print(text)"
   ]
  },
  {
   "cell_type": "code",
   "execution_count": 5,
   "metadata": {},
   "outputs": [],
   "source": [
    "with open(\"data/splits.json\") as fp:\n",
    "    splits = json.load(fp)"
   ]
  },
  {
   "cell_type": "code",
   "execution_count": 14,
   "metadata": {},
   "outputs": [],
   "source": [
    "from collections import Counter\n",
    "\n",
    "files = []\n",
    "langs = []\n",
    "counts = Counter()\n",
    "\n",
    "for file, meta in splits[\"train_gru\"].items():\n",
    "    origin = meta[\"origin\"]\n",
    "    if origin == \"tg\":\n",
    "        files.append(file)\n",
    "        counts[\"tg\"] += 1\n",
    "    else:\n",
    "        lang = meta[\"lang\"]\n",
    "        if lang not in counts or counts[lang] < 500 or Path(file).suffix == \".txt\":\n",
    "            files.append(file)\n",
    "            counts[lang] += 1"
   ]
  },
  {
   "cell_type": "code",
   "execution_count": 2,
   "metadata": {},
   "outputs": [],
   "source": [
    "dataset = BinaryDataset(subsample_lines=True)\n",
    "\n",
    "files = np.array(dataset.files)\n",
    "origins = np.array(dataset.origins)\n",
    "labels = np.array([label.value for label in dataset.labels])"
   ]
  },
  {
   "cell_type": "code",
   "execution_count": 29,
   "metadata": {},
   "outputs": [],
   "source": [
    "tg_code_files = files[(origins == \"tg\") & (labels == BinLabels.CODE.value)]"
   ]
  },
  {
   "cell_type": "code",
   "execution_count": 45,
   "metadata": {},
   "outputs": [],
   "source": [
    "import ctypes\n",
    "from sys import path\n",
    "from scripts.languages_list_old import Languages as LanguagesOld\n",
    "\n",
    "class CTGLang:\n",
    "    def __init__(self):\n",
    "        self.lib = ctypes.CDLL(\"old_model/libtglang.so\")\n",
    "        self.lib.tglang_detect_programming_language.argtypes = [ctypes.c_char_p]\n",
    "        self.lib.tglang_detect_programming_language.restype = ctypes.c_int\n",
    "\n",
    "    def __call__(self, string):\n",
    "        return LanguagesOld.to_string(LanguagesOld(self.lib.tglang_detect_programming_language(string.encode())))"
   ]
  },
  {
   "cell_type": "code",
   "execution_count": 46,
   "metadata": {},
   "outputs": [],
   "source": [
    "old_model = CTGLang()"
   ]
  },
  {
   "cell_type": "code",
   "execution_count": 63,
   "metadata": {},
   "outputs": [],
   "source": [
    "new_langs = [Languages.to_string(lang) for lang in Languages]"
   ]
  },
  {
   "cell_type": "code",
   "execution_count": 64,
   "metadata": {},
   "outputs": [
    {
     "data": {
      "text/plain": [
       "['Other',\n",
       " 'C',\n",
       " 'C++',\n",
       " 'C#',\n",
       " 'CSS',\n",
       " 'Dart',\n",
       " 'Docker',\n",
       " 'FunC',\n",
       " 'Go',\n",
       " 'HTML',\n",
       " 'Java',\n",
       " 'JavaScript',\n",
       " 'JSON',\n",
       " 'Kotlin',\n",
       " 'Lua',\n",
       " 'NGINX',\n",
       " 'Objective-C',\n",
       " 'PHP',\n",
       " 'PowerShell',\n",
       " 'Python',\n",
       " 'Ruby',\n",
       " 'Rust',\n",
       " 'Shell',\n",
       " 'Solidity',\n",
       " 'SQL',\n",
       " 'Swift',\n",
       " 'TL',\n",
       " 'TypeScript',\n",
       " 'XML']"
      ]
     },
     "execution_count": 64,
     "metadata": {},
     "output_type": "execute_result"
    }
   ],
   "source": [
    "new_langs"
   ]
  },
  {
   "cell_type": "code",
   "execution_count": 83,
   "metadata": {},
   "outputs": [],
   "source": [
    "files_list = {\n",
    "    file.as_posix(): {\n",
    "        \"origin\": origin,\n",
    "        \"is_code\": bool(label == BinLabels.CODE.value),\n",
    "        \"lang\": file.parent.name if origin == \"gh\" else None\n",
    "    }\n",
    "    for file, origin, label in zip(files, origins, labels)\n",
    "}"
   ]
  },
  {
   "cell_type": "code",
   "execution_count": null,
   "metadata": {},
   "outputs": [],
   "source": [
    "other_code_files = []\n",
    "\n",
    "for i, file in enumerate(tg_code_files):\n",
    "    text = file.read_text()\n",
    "    prediction = old_model(text)\n",
    "    \n",
    "    if prediction not in new_langs and prediction != \"Bash\":\n",
    "        other_code_files.append(file)\n",
    "\n",
    "        files_list[file.as_posix()][\"is_code\"] = False"
   ]
  },
  {
   "cell_type": "code",
   "execution_count": 85,
   "metadata": {},
   "outputs": [],
   "source": [
    "import json\n",
    "\n",
    "with open(\"data/files.json\", mode=\"w\") as fp:\n",
    "    json.dump(files_list, fp)"
   ]
  },
  {
   "cell_type": "code",
   "execution_count": 95,
   "metadata": {},
   "outputs": [],
   "source": [
    "files = []\n",
    "is_code = []\n",
    "lang = [] \n",
    "origins = []\n",
    "\n",
    "for file, meta in files_list.items():\n",
    "    files.append(file)\n",
    "    is_code.append(meta[\"is_code\"])\n",
    "    lang.append(meta[\"lang\"])\n",
    "    origins.append(meta[\"origin\"])\n",
    "\n",
    "files = np.array(files)\n",
    "is_code = np.array(is_code)\n",
    "lang = np.array(lang)\n",
    "origins = np.array(origins)"
   ]
  },
  {
   "cell_type": "code",
   "execution_count": 96,
   "metadata": {},
   "outputs": [],
   "source": [
    "from sklearn.model_selection import train_test_split\n",
    "\n",
    "train, test = train_test_split(np.arange(len(files)), test_size=.2,\n",
    "                               stratify=list(zip(is_code, lang, origins)), random_state=42)\n",
    "\n",
    "train_gru, train_svc = train_test_split(train, test_size=.1,\n",
    "                                        stratify=list(zip(is_code[train], lang[train], origins[train])), random_state=42)"
   ]
  },
  {
   "cell_type": "code",
   "execution_count": 102,
   "metadata": {},
   "outputs": [],
   "source": [
    "splits = {\n",
    "    \"train_gru\": {\n",
    "        str(file): {\n",
    "            \"origin\": str(origin),\n",
    "            \"is_code\": bool(is_code),\n",
    "            \"lang\": lang,\n",
    "        }\n",
    "        for file, origin, is_code, lang in zip(files[train_gru], origins[train_gru], is_code[train_gru], lang[train_gru])\n",
    "    },\n",
    "    \"train_svc\": {\n",
    "        str(file): {\n",
    "            \"origin\": str(origin),\n",
    "            \"is_code\": bool(is_code),\n",
    "            \"lang\": lang\n",
    "        }\n",
    "        for file, origin, is_code, lang in zip(files[train_svc], origins[train_svc], is_code[train_svc], lang[train_svc])\n",
    "    },\n",
    "    \"test\": {\n",
    "        str(file): {\n",
    "            \"origin\": str(origin),\n",
    "            \"is_code\": bool(is_code),\n",
    "            \"lang\": lang\n",
    "        }\n",
    "        for file, origin, is_code, lang in zip(files[test], origins[test], is_code[test], lang[test])\n",
    "    },\n",
    "}"
   ]
  },
  {
   "cell_type": "code",
   "execution_count": 103,
   "metadata": {},
   "outputs": [],
   "source": [
    "with open(\"data/splits.json\", \"w\") as fp:\n",
    "    json.dump(splits, fp)"
   ]
  },
  {
   "cell_type": "code",
   "execution_count": 3,
   "metadata": {},
   "outputs": [],
   "source": [
    "idxs = np.arange(len(dataset))\n",
    "np.random.shuffle(idxs)\n",
    "\n",
    "lengths = []\n",
    "\n",
    "for i, idx in enumerate(idxs):\n",
    "    text, label = dataset[idx]\n",
    "    \n",
    "    lengths.append(len(text))\n",
    "    # print(text)\n",
    "    # print(\"=\"*100)\n",
    "\n",
    "    if i == 50000:\n",
    "        break"
   ]
  },
  {
   "cell_type": "code",
   "execution_count": 5,
   "metadata": {},
   "outputs": [],
   "source": [
    "tg_files = files[origins == \"tg\"]\n",
    "gh_files = np.random.choice(files[origins == \"gh\"], 50000)"
   ]
  },
  {
   "cell_type": "code",
   "execution_count": 6,
   "metadata": {},
   "outputs": [
    {
     "data": {
      "application/vnd.jupyter.widget-view+json": {
       "model_id": "2a8e55359ead4cb485477ab159a9eb53",
       "version_major": 2,
       "version_minor": 0
      },
      "text/plain": [
       "  0%|          | 0/21738 [00:00<?, ?it/s]"
      ]
     },
     "metadata": {},
     "output_type": "display_data"
    }
   ],
   "source": [
    "def calc_statistics(files):\n",
    "    num_lines = []\n",
    "    line_lengths = []\n",
    "    num_symbols = []\n",
    "\n",
    "    for file in tqdm(files):\n",
    "        file: Path\n",
    "        text = file.read_text()\n",
    "\n",
    "        lines = text.split(\"\\n\")\n",
    "        num_lines.append(len(lines))\n",
    "        line_lengths.extend(len(line) for line in lines)\n",
    "        num_symbols.append(len(text))\n",
    "\n",
    "    num_lines = np.array(num_lines)\n",
    "    line_lengths = np.array(line_lengths)\n",
    "    num_symbols = np.array(num_symbols)\n",
    "\n",
    "    return num_lines, line_lengths, num_symbols\n",
    "\n",
    "tg_num_lines, tg_line_lengths, tg_num_symbols = calc_statistics(tg_files)\n",
    "# gh_num_lines, gh_line_lengths, gh_num_symbols = calc_statistics(gh_files)"
   ]
  },
  {
   "cell_type": "code",
   "execution_count": 7,
   "metadata": {},
   "outputs": [
    {
     "name": "stdout",
     "output_type": "stream",
     "text": [
      "Optimal alpha: 70.53031203267946\n",
      "Optimal beta: 1.2777589461265924\n"
     ]
    }
   ],
   "source": [
    "import numpy as np\n",
    "from scipy.optimize import minimize\n",
    "\n",
    "# Define the log logistic probability density function\n",
    "def log_logistic_pdf(x, alpha, beta):\n",
    "    return (beta / alpha) * ((x / alpha) ** (beta - 1)) / (1 + (x / alpha) ** beta) ** 2\n",
    "\n",
    "# Define the negative log-likelihood function for the log logistic distribution\n",
    "def negative_log_likelihood(params, data):\n",
    "    alpha, beta = params\n",
    "    log_likelihood = np.sum(np.log(log_logistic_pdf(data, alpha, beta)))\n",
    "    return -log_likelihood\n",
    "\n",
    "np.random.seed(42)\n",
    "\n",
    "# Initial guess for parameters\n",
    "initial_guess = [np.median(tg_num_symbols), 0.5]\n",
    "\n",
    "# Use the minimize function to find the MLE parameters\n",
    "result = minimize(negative_log_likelihood, initial_guess, args=(tg_num_symbols[tg_num_symbols != 89],), method='Nelder-Mead')\n",
    "\n",
    "# Extract the optimal parameters\n",
    "optimal_alpha, optimal_beta = result.x\n",
    "\n",
    "# Print the results\n",
    "print(f\"Optimal alpha: {optimal_alpha}\")\n",
    "print(f\"Optimal beta: {optimal_beta}\")"
   ]
  },
  {
   "cell_type": "code",
   "execution_count": 11,
   "metadata": {},
   "outputs": [
    {
     "data": {
      "image/png": "[encoded data removed]",
      "text/plain": [
       "<Figure size 432x288 with 1 Axes>"
      ]
     },
     "metadata": {
      "needs_background": "light"
     },
     "output_type": "display_data"
    }
   ],
   "source": [
    "a = optimal_alpha #np.median(tg_num_symbols)\n",
    "b = optimal_beta\n",
    "\n",
    "plt.hist(tg_num_symbols[tg_num_symbols != 89], density=True, bins=2048, alpha=0.5);\n",
    "plt.hist(lengths, density=True, bins=2048, alpha=0.5)\n",
    "x0, x1 = plt.xlim()\n",
    "xx = np.linspace(0, x1, 1024)\n",
    "plt.plot(xx, (b / a) * (xx / a)**(b - 1) / (1 + (xx / a)**b)**2) # * np.exp(-lmb * xx)\n",
    "plt.xscale(\"log\")\n",
    "plt.yscale(\"log\")\n",
    "# plt.xlim(1, 1000)"
   ]
  },
  {
   "cell_type": "code",
   "execution_count": 28,
   "metadata": {},
   "outputs": [
    {
     "data": {
      "image/png": "[encoded data removed]",
      "text/plain": [
       "<Figure size 1440x576 with 3 Axes>"
      ]
     },
     "metadata": {
      "needs_background": "light"
     },
     "output_type": "display_data"
    }
   ],
   "source": [
    "plt.figure(figsize=[20, 8])\n",
    "\n",
    "logbins = lambda x: np.logspace(np.log10(max(x.min(), 1)),\n",
    "                                np.log10(x.max()), 20)\n",
    "\n",
    "plt.subplot(131)\n",
    "plt.hist(tg_num_lines, bins=logbins(tg_num_lines), density=True, alpha=0.5, label=\"tg\");\n",
    "plt.hist(gh_num_lines, bins=logbins(gh_num_lines), density=True, alpha=0.5, label=\"gh\");\n",
    "plt.legend()\n",
    "plt.title(\"Num lines\")\n",
    "plt.xscale(\"log\")\n",
    "# plt.yscale(\"log\")\n",
    "\n",
    "plt.subplot(132)\n",
    "plt.hist(tg_line_lengths, bins=logbins(tg_line_lengths), density=True, alpha=0.5, label=\"tg\");\n",
    "plt.hist(gh_line_lengths, bins=logbins(gh_line_lengths), density=True, alpha=0.5, label=\"gh\");\n",
    "plt.legend()\n",
    "plt.title(\"Line length\")\n",
    "plt.xscale(\"log\")\n",
    "# plt.yscale(\"log\")\n",
    "\n",
    "plt.subplot(133)\n",
    "plt.hist(tg_num_symbols, bins=logbins(tg_num_symbols), density=True, alpha=0.5, label=\"tg\");\n",
    "plt.hist(gh_num_symbols, bins=logbins(gh_num_symbols), density=True, alpha=0.5, label=\"gh\");\n",
    "plt.legend()\n",
    "plt.title(\"Num symbols\")\n",
    "plt.xscale(\"log\")\n",
    "# plt.yscale(\"log\")"
   ]
  },
  {
   "cell_type": "code",
   "execution_count": 7,
   "metadata": {},
   "outputs": [
    {
     "data": {
      "text/plain": [
       "688431"
      ]
     },
     "execution_count": 7,
     "metadata": {},
     "output_type": "execute_result"
    }
   ],
   "source": [
    "plt.hist(num_lines, bins=128);\n",
    "plt.yscale(\"log\")\n",
    "sum(1 - label.value for label in dataset.labels)"
   ]
  },
  {
   "cell_type": "code",
   "execution_count": 6,
   "metadata": {},
   "outputs": [
    {
     "data": {
      "text/plain": [
       "<BarContainer object of 2 artists>"
      ]
     },
     "execution_count": 6,
     "metadata": {},
     "output_type": "execute_result"
    },
    {
     "data": {
      "image/png": "[encoded data removed]",
      "text/plain": [
       "<Figure size 432x288 with 1 Axes>"
      ]
     },
     "metadata": {
      "needs_background": "light"
     },
     "output_type": "display_data"
    }
   ],
   "source": [
    "from collections import Counter\n",
    "counts = Counter([BinLabels.to_string(label) for label in dataset.labels])\n",
    "\n",
    "plt.bar(counts.keys(), counts.values())"
   ]
  },
  {
   "cell_type": "code",
   "execution_count": 5,
   "metadata": {},
   "outputs": [
    {
     "data": {
      "text/plain": [
       "1050298"
      ]
     },
     "execution_count": 5,
     "metadata": {},
     "output_type": "execute_result"
    }
   ],
   "source": [
    "len(dataset)"
   ]
  },
  {
   "cell_type": "code",
   "execution_count": 21,
   "metadata": {},
   "outputs": [],
   "source": []
  },
  {
   "cell_type": "code",
   "execution_count": 24,
   "metadata": {},
   "outputs": [
    {
     "data": {
      "text/plain": [
       "array([346856, 934576, 829196, ..., 938547, 519809, 553126])"
      ]
     },
     "execution_count": 24,
     "metadata": {},
     "output_type": "execute_result"
    }
   ],
   "source": [
    "test"
   ]
  },
  {
   "cell_type": "code",
   "execution_count": null,
   "metadata": {},
   "outputs": [],
   "source": []
  },
  {
   "cell_type": "code",
   "execution_count": null,
   "metadata": {},
   "outputs": [],
   "source": [
    "files = np.array(dataset.files)\n",
    "labels = np.array(dataset.labels)"
   ]
  },
  {
   "cell_type": "code",
   "execution_count": 9,
   "metadata": {},
   "outputs": [
    {
     "data": {
      "application/vnd.jupyter.widget-view+json": {
       "model_id": "5486e96753834ef0afe229c41ab8435f",
       "version_major": 2,
       "version_minor": 0
      },
      "text/plain": [
       "  0%|          | 0/1050298 [00:00<?, ?it/s]"
      ]
     },
     "metadata": {},
     "output_type": "display_data"
    }
   ],
   "source": [
    "bad_files = []\n",
    "\n",
    "for file, label in zip(tqdm(dataset.files), dataset.labels):\n",
    "    text = file.read_text()\n",
    "    lines = text.split(\"\\n\")\n",
    "\n",
    "    if len(text.strip()) == 0 or len(lines) == 0:\n",
    "        bad_files.append(file)\n",
    "        continue\n",
    "\n",
    "    max_line_len = max(len(line) for line in lines)\n",
    "    \n",
    "    if max_line_len > 200 and label == BinLabels.CODE.value:\n",
    "        bad_files.append(file)"
   ]
  },
  {
   "cell_type": "code",
   "execution_count": 14,
   "metadata": {},
   "outputs": [],
   "source": [
    "func_dir = DATA / \"gh_data/FunC\"\n",
    "\n",
    "files = sorted(func_dir.glob(\"*\"))"
   ]
  },
  {
   "cell_type": "code",
   "execution_count": 15,
   "metadata": {},
   "outputs": [],
   "source": [
    "to_delete = []\n",
    "\n",
    "for file in files:\n",
    "    content = file.read_text().strip()\n",
    "    lines = content.split(\"\\n\")\n",
    "\n",
    "    if any(line.startswith(\"/\") for line in lines):\n",
    "        to_delete.append(file)"
   ]
  }
 ],
 "metadata": {
  "kernelspec": {
   "display_name": "Python 3",
   "language": "python",
   "name": "python3"
  },
  "language_info": {
   "codemirror_mode": {
    "name": "ipython",
    "version": 3
   },
   "file_extension": ".py",
   "mimetype": "text/x-python",
   "name": "python",
   "nbconvert_exporter": "python",
   "pygments_lexer": "ipython3",
   "version": "3.10.12"
  }
 },
 "nbformat": 4,
 "nbformat_minor": 2
}
